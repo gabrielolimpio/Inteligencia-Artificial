{
  "nbformat": 4,
  "nbformat_minor": 0,
  "metadata": {
    "colab": {
      "name": "Modelo.ipynb",
      "provenance": [],
      "collapsed_sections": []
    },
    "kernelspec": {
      "name": "python3",
      "display_name": "Python 3"
    },
    "language_info": {
      "name": "python"
    }
  },
  "cells": [
    {
      "cell_type": "markdown",
      "source": [
        "**Instituto de Informática - UFG**\n",
        "\n",
        "Disciplina: Inteligência Computacional\n",
        "\n",
        "Prof. Cedric Luiz de Carvalho\n",
        "\n",
        "\n",
        "Grupo (Gabriel Olímpio Rocha Leão, Geovanny Magalhães Novais)\n",
        "\n",
        "---\n",
        "\n",
        "\n",
        "Analista de dados: Gabriel Olímpio Rocha Leão\n",
        "\n",
        "---\n",
        "\n",
        "Engenheiro(a) do conhecimento: Geovanny Magalhães Novais\n",
        "\n",
        "---"
      ],
      "metadata": {
        "id": "zFgSmAhYesqK"
      }
    },
    {
      "cell_type": "markdown",
      "source": [
        "# Câncer de mama\n",
        "\n",
        "O câncer de mama é uma doença causada pela multiplicação desordenada de células anormais da mama, que forma um tumor com potencial de invadir outros órgãos. \n",
        "\n",
        "O sintoma mais comum de câncer de mama é o aparecimento de nódulo, geralmente indolor, duro e irregular, mas há tumores que são de consistência branda, globosos e bem definidos. Outros sinais de câncer de mama são dor e inversão do mamilo. A secreção associada ao câncer geralmente é transparente, podendo ser rosada ou avermelhada devido à presença de glóbulos vermelhos. Podem também surgir linfonodos palpáveis na axila.\n",
        "\n",
        "O câncer de mama é o mais incidente em mulheres no mundo, com aproximadamente 2,3 milhões de casos novos estimados em 2020, o que representa 24,5% dos casos novos por câncer em mulheres. É também a causa mais frequente de morte por câncer nessa população, com 684.996 óbitos estimados para esse ano (15,5% dos óbitos por câncer em mulheres) (IARC, 2020). \n",
        "\n",
        "No Brasil, o câncer de mama é também o tipo de câncer mais incidente em mulheres de todas as regiões. Em 2021, estima-se que ocorreram 66.280 casos novos da doença (INCA, 2020). O câncer de mama também acomete homens, porém é raro, representando apenas 1% do total de casos da doença, no Brasil. O Sistema Único de Saúde (SUS) oferece tratamento para o câncer de mama em Unidades Hospitalares especializadas.\n",
        "\n",
        "**Prevenção:**\n",
        "* Praticar atividade física\n",
        "* Manter o peso corporal adequado\n",
        "* Evitar o consumo de bebidas alcoólicas\n",
        "* Amamentar seu bebê\n",
        "\n",
        "**Diagnóstico:**\n",
        "Para a investigação, além do exame clínico das mamas, exames de imagem podem ser recomendados, como mamografia, ultrassonografia ou ressonância magnética. A confirmação só é feita, por meio da biópsia. O material retirado é analisado pelo patologista para a definição do diagnóstico."
      ],
      "metadata": {
        "id": "etsGHC_Q4mwc"
      }
    },
    {
      "cell_type": "markdown",
      "source": [
        "#Descrição do modelo\n",
        "\n",
        "Utilizando da [base de dados](http://archive.ics.uci.edu/ml/datasets/Breast+Cancer+Wisconsin+%28Prognostic%29) utilizaremos uma máquina de vetor de suporte que tenta prever a malignidade do tumor dos(as) pacientes seguindo as seguintes variáveis e suas descrições:\n",
        "\n",
        "**Id:** identificador\n",
        "\n",
        "**espessuraDoAglomerado:** agrupamento de células cancerígenas em multicamadas\n",
        "\n",
        "**uniformidadeDoTamanhoDaCelula:** indica metástase para linfonodos\n",
        "\n",
        "**uniformidadeDoFormatoDaCelula:** identifica células cancerosas de tamanho variável\n",
        "\n",
        "**adesaoMarginal:** sugere perda de adesão, as células cancerosas perdem essa propriedade, fazendo com que a retenção de adesão seja uma indicação de malignidade\n",
        "\n",
        "**tamanhoDaCelulaEpitelialUnica:** caso o tamanho se torne maior, pode ser uma célula maligna\n",
        "\n",
        "**nucleosNus:** núcleos sem revestimento citoplasmático, encontrados em tumores benignos\n",
        "\n",
        "**cromatinaSuave:** geralmente encontrada em células benignas\n",
        "\n",
        "**normalNucleoni:** geralmente muito pequenos em células benignas\n",
        "\n",
        "**mitoses:** processo de divisão celular pelo qual o núcleo se divide\n",
        "\n",
        "**classeDoTumor:** representa se o(a) paciente possui tumor benigno (2) ou maligno (4)"
      ],
      "metadata": {
        "id": "R0opTTfMeiKT"
      }
    },
    {
      "cell_type": "markdown",
      "source": [
        "#Escolha do algoritmo"
      ],
      "metadata": {
        "id": "mxterOLBvUhS"
      }
    },
    {
      "cell_type": "markdown",
      "source": [
        "#**SVM - SVC (C-Support Vector Classification)**\n",
        "#Características\n",
        "\n",
        "\n",
        "* O tempo de ajuste escala pelo menos quadraticamente com o número de amostras\n",
        "\n",
        "* Pode ser impraticável além de dezenas de milhares de amostras\n"
      ],
      "metadata": {
        "id": "a-Hu9k_asq37"
      }
    },
    {
      "cell_type": "markdown",
      "source": [
        "#Vantagens\n",
        "*   São efetivas em espaços de altas dimensões\n",
        "*   Efetivas em casos onde o número de dimensões é maior que o número de amostras\n",
        "*   Usa um subconjunto de pontos de treinamento na função de decisão (chamada de vetores de suporte), então é eficiente em termos de uso de memória\n",
        "*   É versátil: diferentes funções de *kernel* podem ser especificadas para a função de decisão. Alguns *kernels* mais comuns são fornecidos\n",
        "\n"
      ],
      "metadata": {
        "id": "54V819tFvhU_"
      }
    },
    {
      "cell_type": "markdown",
      "source": [
        "# Desvantagens\n",
        "*    Se o número de características é muito maior do que o número de amostras, a escolha adequada das funções de *kernel* e do termo de regularização para se evitar *over-fitting* é crucial\n",
        "*    As SVMs não são capazes de estimar probabilidades diretamente. Estas estimativas são feitas usando *validação cruzada de cinco etapas (five-fold cross-validation)*, que é muito custosa"
      ],
      "metadata": {
        "id": "B3XLU48gwQhk"
      }
    },
    {
      "cell_type": "markdown",
      "source": [
        "#Referências utilizadas"
      ],
      "metadata": {
        "id": "8CPEqCdw9xEf"
      }
    },
    {
      "cell_type": "markdown",
      "source": [
        "* [INCA](https://www.inca.gov.br/tipos-de-cancer/cancer-de-mama#:~:text=O%20c%C3%A2ncer%20de%20mama%20%C3%A9,r%C3%A1pido%2C%20enquanto%20outros%20crescem%20lentamente)\n",
        "\n",
        "* [Tipos de câncer de mama](https://vidasaudavel.einstein.br/tipos-de-cancer-de-mama/)\n",
        "\n",
        "* [Conceito e magnitude de câncer de mama](https://www.inca.gov.br/controle-do-cancer-de-mama/conceito-e-magnitude)\n",
        "\n",
        "* [Cancer today](https://gco.iarc.fr/today/home)\n",
        "\n",
        "* [Estimativa 2020 da incidência de câncer no Brasil](https://www.inca.gov.br/sites/ufu.sti.inca.local/files//media/document//estimativa-2020-incidencia-de-cancer-no-brasil.pdf)\n",
        "\n",
        "* [Como excluir uma linha com base no valor da coluna em Pandas DataFrame\n",
        "](https://www.delftstack.com/pt/howto/python-pandas/how-to-delete-dataframe-row-in-pandas-based-on-column-value/#:~:text=e%20m%C3%A1scara%20booleana%20.-,M%C3%A9todo%20para%20excluir%20linha%20no%20valor%20da%20coluna%20em%20Pandas,por%20padr%C3%A3o%20axis%20%C3%A9%200%20)\n",
        "* [seaborn.pairplot](https://seaborn.pydata.org/generated/seaborn.pairplot.html)\n",
        "* [Novel Mathematical Model of Breast Cancer Diagnostics Using an Associative Pattern Classification](https://www.mdpi.com/2075-4418/10/3/136/htm)\n",
        "\n",
        "* [sklearn.svm.SVC](https://scikit-learn.org/stable/modules/generated/sklearn.svm.SVC.html#sklearn.svm.SVC)"
      ],
      "metadata": {
        "id": "_9prJp0S91IR"
      }
    }
  ]
}