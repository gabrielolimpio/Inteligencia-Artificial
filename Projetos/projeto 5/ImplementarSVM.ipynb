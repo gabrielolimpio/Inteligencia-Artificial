{
  "nbformat": 4,
  "nbformat_minor": 0,
  "metadata": {
    "colab": {
      "name": "ImplementarSVM.ipynb",
      "provenance": [],
      "collapsed_sections": []
    },
    "kernelspec": {
      "name": "python3",
      "display_name": "Python 3"
    }
  },
  "cells": [
    {
      "cell_type": "markdown",
      "metadata": {
        "id": "mLKPZajBKe3L"
      },
      "source": [
        "**Instituto de Informática - UFG**\n",
        "\n",
        "Disciplina: Inteligência Artificial\n",
        "\n",
        "Prof. Cedric Luiz de Carvalho\n",
        "\n",
        "\n",
        "Grupo (Gabriel Olímpio Rocha Leão, Geovanny Magalhães Novais)\n",
        "\n",
        "---\n",
        "\n",
        "\n",
        "Analista de dados: Gabriel Olímpio Rocha Leão\n",
        "\n",
        "---\n",
        "\n",
        "Engenheiro(a) do conhecimento: Geovanny Magalhães Novais\n",
        "\n",
        "---\n"
      ]
    },
    {
      "cell_type": "markdown",
      "metadata": {
        "id": "o_bZhd8FMiSa"
      },
      "source": [
        "#Máquinas de Vetores de Suporte \n",
        "\n",
        "\n",
        "\n"
      ]
    },
    {
      "cell_type": "markdown",
      "metadata": {
        "id": "YTE0x5IrTiwN"
      },
      "source": [
        "Utilizando a base de dados [Breast Cancer Wisconsin (Prognostic) Data Set]( http://archive.ics.uci.edu/ml/datasets/Breast+Cancer+Wisconsin+%28Prognostic%29]), para verificar estados de pacientes acometidos com algum tipo de tumor, após processamento prévio feito na etapa de análise de dados, obtivemos dois novos datasets que serão explorados agora: \n"
      ]
    },
    {
      "cell_type": "markdown",
      "metadata": {
        "id": "WEpLciSUSVlR"
      },
      "source": [
        "* Montando o drive para acessar a database \n"
      ]
    },
    {
      "cell_type": "code",
      "source": [
        "from google.colab import drive\n",
        "drive.mount('/content/drive')"
      ],
      "metadata": {
        "colab": {
          "base_uri": "https://localhost:8080/"
        },
        "id": "uD-_7WIYa5_S",
        "outputId": "81b4279c-f443-4ec4-e24d-a663acfbd191"
      },
      "execution_count": 1,
      "outputs": [
        {
          "output_type": "stream",
          "name": "stdout",
          "text": [
            "Mounted at /content/drive\n"
          ]
        }
      ]
    },
    {
      "cell_type": "markdown",
      "source": [
        "* Importando a biblioteca pandas"
      ],
      "metadata": {
        "id": "Z-zuI6ZD1-8D"
      }
    },
    {
      "cell_type": "code",
      "source": [
        "import pandas as pd"
      ],
      "metadata": {
        "id": "DBxK5B8Q1vGb"
      },
      "execution_count": 2,
      "outputs": []
    },
    {
      "cell_type": "markdown",
      "source": [
        "* Criando o dataframe db1, com balanceamento 67 % de câncer benigno e 33 % de câncer maligno"
      ],
      "metadata": {
        "id": "RM67X1w3bFEy"
      }
    },
    {
      "cell_type": "code",
      "source": [
        "db1 = pd.read_csv('/content/drive/MyDrive/ColabNotebooks/Trabalho5/db1.csv')"
      ],
      "metadata": {
        "id": "Dg3Oh4qDbKvE"
      },
      "execution_count": 3,
      "outputs": []
    },
    {
      "cell_type": "markdown",
      "source": [
        "* Criando o dataframe db2, com balanceamento 50 % de câncer benigno e 50 % de câncer maligno"
      ],
      "metadata": {
        "id": "zNk84gVw2Eg0"
      }
    },
    {
      "cell_type": "code",
      "source": [
        "db2 = pd.read_csv('/content/drive/MyDrive/ColabNotebooks/Trabalho5/db2.csv')"
      ],
      "metadata": {
        "id": "xjgFmf5e2Eg1"
      },
      "execution_count": 4,
      "outputs": []
    },
    {
      "cell_type": "markdown",
      "source": [
        "* Exibindo valores de exemplo em ambas as bases"
      ],
      "metadata": {
        "id": "RJb-PZHlbuQ1"
      }
    },
    {
      "cell_type": "code",
      "source": [
        "db1.head()"
      ],
      "metadata": {
        "colab": {
          "base_uri": "https://localhost:8080/",
          "height": 288
        },
        "id": "b8fONurHbvxB",
        "outputId": "c5063a93-5121-4703-a054-6d40690ca13f"
      },
      "execution_count": 5,
      "outputs": [
        {
          "output_type": "execute_result",
          "data": {
            "text/plain": [
              "   Unnamed: 0  espessuraDoAglomerado  uniformidadeDoTamanhoDaCelula  \\\n",
              "0           0                      4                              1   \n",
              "1           1                      4                              1   \n",
              "2           2                      4                              1   \n",
              "3           3                      5                              1   \n",
              "4           4                      5                              1   \n",
              "\n",
              "   uniformidadeDoFormatoDaCelula  adesaoMarginal  \\\n",
              "0                              2               1   \n",
              "1                              2               1   \n",
              "2                              2               1   \n",
              "3                              1               6   \n",
              "4                              1               1   \n",
              "\n",
              "   tamanhoDaCelulaEpitelialUnica  nucleosNus  cromatinaSuave  normalNucleoni  \\\n",
              "0                              2           1               2               1   \n",
              "1                              2           1               2               1   \n",
              "2                              2           1               2               1   \n",
              "3                              3           1               2               1   \n",
              "4                              2           1               1               1   \n",
              "\n",
              "   mitoses  classeDoTumor  \n",
              "0        1              2  \n",
              "1        1              2  \n",
              "2        1              2  \n",
              "3        1              2  \n",
              "4        1              2  "
            ],
            "text/html": [
              "\n",
              "  <div id=\"df-9507be98-62a5-4ac4-bc52-414cdecabc64\">\n",
              "    <div class=\"colab-df-container\">\n",
              "      <div>\n",
              "<style scoped>\n",
              "    .dataframe tbody tr th:only-of-type {\n",
              "        vertical-align: middle;\n",
              "    }\n",
              "\n",
              "    .dataframe tbody tr th {\n",
              "        vertical-align: top;\n",
              "    }\n",
              "\n",
              "    .dataframe thead th {\n",
              "        text-align: right;\n",
              "    }\n",
              "</style>\n",
              "<table border=\"1\" class=\"dataframe\">\n",
              "  <thead>\n",
              "    <tr style=\"text-align: right;\">\n",
              "      <th></th>\n",
              "      <th>Unnamed: 0</th>\n",
              "      <th>espessuraDoAglomerado</th>\n",
              "      <th>uniformidadeDoTamanhoDaCelula</th>\n",
              "      <th>uniformidadeDoFormatoDaCelula</th>\n",
              "      <th>adesaoMarginal</th>\n",
              "      <th>tamanhoDaCelulaEpitelialUnica</th>\n",
              "      <th>nucleosNus</th>\n",
              "      <th>cromatinaSuave</th>\n",
              "      <th>normalNucleoni</th>\n",
              "      <th>mitoses</th>\n",
              "      <th>classeDoTumor</th>\n",
              "    </tr>\n",
              "  </thead>\n",
              "  <tbody>\n",
              "    <tr>\n",
              "      <th>0</th>\n",
              "      <td>0</td>\n",
              "      <td>4</td>\n",
              "      <td>1</td>\n",
              "      <td>2</td>\n",
              "      <td>1</td>\n",
              "      <td>2</td>\n",
              "      <td>1</td>\n",
              "      <td>2</td>\n",
              "      <td>1</td>\n",
              "      <td>1</td>\n",
              "      <td>2</td>\n",
              "    </tr>\n",
              "    <tr>\n",
              "      <th>1</th>\n",
              "      <td>1</td>\n",
              "      <td>4</td>\n",
              "      <td>1</td>\n",
              "      <td>2</td>\n",
              "      <td>1</td>\n",
              "      <td>2</td>\n",
              "      <td>1</td>\n",
              "      <td>2</td>\n",
              "      <td>1</td>\n",
              "      <td>1</td>\n",
              "      <td>2</td>\n",
              "    </tr>\n",
              "    <tr>\n",
              "      <th>2</th>\n",
              "      <td>2</td>\n",
              "      <td>4</td>\n",
              "      <td>1</td>\n",
              "      <td>2</td>\n",
              "      <td>1</td>\n",
              "      <td>2</td>\n",
              "      <td>1</td>\n",
              "      <td>2</td>\n",
              "      <td>1</td>\n",
              "      <td>1</td>\n",
              "      <td>2</td>\n",
              "    </tr>\n",
              "    <tr>\n",
              "      <th>3</th>\n",
              "      <td>3</td>\n",
              "      <td>5</td>\n",
              "      <td>1</td>\n",
              "      <td>1</td>\n",
              "      <td>6</td>\n",
              "      <td>3</td>\n",
              "      <td>1</td>\n",
              "      <td>2</td>\n",
              "      <td>1</td>\n",
              "      <td>1</td>\n",
              "      <td>2</td>\n",
              "    </tr>\n",
              "    <tr>\n",
              "      <th>4</th>\n",
              "      <td>4</td>\n",
              "      <td>5</td>\n",
              "      <td>1</td>\n",
              "      <td>1</td>\n",
              "      <td>1</td>\n",
              "      <td>2</td>\n",
              "      <td>1</td>\n",
              "      <td>1</td>\n",
              "      <td>1</td>\n",
              "      <td>1</td>\n",
              "      <td>2</td>\n",
              "    </tr>\n",
              "  </tbody>\n",
              "</table>\n",
              "</div>\n",
              "      <button class=\"colab-df-convert\" onclick=\"convertToInteractive('df-9507be98-62a5-4ac4-bc52-414cdecabc64')\"\n",
              "              title=\"Convert this dataframe to an interactive table.\"\n",
              "              style=\"display:none;\">\n",
              "        \n",
              "  <svg xmlns=\"http://www.w3.org/2000/svg\" height=\"24px\"viewBox=\"0 0 24 24\"\n",
              "       width=\"24px\">\n",
              "    <path d=\"M0 0h24v24H0V0z\" fill=\"none\"/>\n",
              "    <path d=\"M18.56 5.44l.94 2.06.94-2.06 2.06-.94-2.06-.94-.94-2.06-.94 2.06-2.06.94zm-11 1L8.5 8.5l.94-2.06 2.06-.94-2.06-.94L8.5 2.5l-.94 2.06-2.06.94zm10 10l.94 2.06.94-2.06 2.06-.94-2.06-.94-.94-2.06-.94 2.06-2.06.94z\"/><path d=\"M17.41 7.96l-1.37-1.37c-.4-.4-.92-.59-1.43-.59-.52 0-1.04.2-1.43.59L10.3 9.45l-7.72 7.72c-.78.78-.78 2.05 0 2.83L4 21.41c.39.39.9.59 1.41.59.51 0 1.02-.2 1.41-.59l7.78-7.78 2.81-2.81c.8-.78.8-2.07 0-2.86zM5.41 20L4 18.59l7.72-7.72 1.47 1.35L5.41 20z\"/>\n",
              "  </svg>\n",
              "      </button>\n",
              "      \n",
              "  <style>\n",
              "    .colab-df-container {\n",
              "      display:flex;\n",
              "      flex-wrap:wrap;\n",
              "      gap: 12px;\n",
              "    }\n",
              "\n",
              "    .colab-df-convert {\n",
              "      background-color: #E8F0FE;\n",
              "      border: none;\n",
              "      border-radius: 50%;\n",
              "      cursor: pointer;\n",
              "      display: none;\n",
              "      fill: #1967D2;\n",
              "      height: 32px;\n",
              "      padding: 0 0 0 0;\n",
              "      width: 32px;\n",
              "    }\n",
              "\n",
              "    .colab-df-convert:hover {\n",
              "      background-color: #E2EBFA;\n",
              "      box-shadow: 0px 1px 2px rgba(60, 64, 67, 0.3), 0px 1px 3px 1px rgba(60, 64, 67, 0.15);\n",
              "      fill: #174EA6;\n",
              "    }\n",
              "\n",
              "    [theme=dark] .colab-df-convert {\n",
              "      background-color: #3B4455;\n",
              "      fill: #D2E3FC;\n",
              "    }\n",
              "\n",
              "    [theme=dark] .colab-df-convert:hover {\n",
              "      background-color: #434B5C;\n",
              "      box-shadow: 0px 1px 3px 1px rgba(0, 0, 0, 0.15);\n",
              "      filter: drop-shadow(0px 1px 2px rgba(0, 0, 0, 0.3));\n",
              "      fill: #FFFFFF;\n",
              "    }\n",
              "  </style>\n",
              "\n",
              "      <script>\n",
              "        const buttonEl =\n",
              "          document.querySelector('#df-9507be98-62a5-4ac4-bc52-414cdecabc64 button.colab-df-convert');\n",
              "        buttonEl.style.display =\n",
              "          google.colab.kernel.accessAllowed ? 'block' : 'none';\n",
              "\n",
              "        async function convertToInteractive(key) {\n",
              "          const element = document.querySelector('#df-9507be98-62a5-4ac4-bc52-414cdecabc64');\n",
              "          const dataTable =\n",
              "            await google.colab.kernel.invokeFunction('convertToInteractive',\n",
              "                                                     [key], {});\n",
              "          if (!dataTable) return;\n",
              "\n",
              "          const docLinkHtml = 'Like what you see? Visit the ' +\n",
              "            '<a target=\"_blank\" href=https://colab.research.google.com/notebooks/data_table.ipynb>data table notebook</a>'\n",
              "            + ' to learn more about interactive tables.';\n",
              "          element.innerHTML = '';\n",
              "          dataTable['output_type'] = 'display_data';\n",
              "          await google.colab.output.renderOutput(dataTable, element);\n",
              "          const docLink = document.createElement('div');\n",
              "          docLink.innerHTML = docLinkHtml;\n",
              "          element.appendChild(docLink);\n",
              "        }\n",
              "      </script>\n",
              "    </div>\n",
              "  </div>\n",
              "  "
            ]
          },
          "metadata": {},
          "execution_count": 5
        }
      ]
    },
    {
      "cell_type": "code",
      "source": [
        "db2.head()"
      ],
      "metadata": {
        "colab": {
          "base_uri": "https://localhost:8080/",
          "height": 288
        },
        "id": "p2FQiBA02OHw",
        "outputId": "1ca87959-9214-4c3e-eac6-8f1bdab02e67"
      },
      "execution_count": 6,
      "outputs": [
        {
          "output_type": "execute_result",
          "data": {
            "text/plain": [
              "   Unnamed: 0  espessuraDoAglomerado  uniformidadeDoTamanhoDaCelula  \\\n",
              "0           0                      4                              1   \n",
              "1           1                      4                              1   \n",
              "2           2                      4                              1   \n",
              "3           3                      5                              1   \n",
              "4           4                      5                              1   \n",
              "\n",
              "   uniformidadeDoFormatoDaCelula  adesaoMarginal  \\\n",
              "0                              2               1   \n",
              "1                              2               1   \n",
              "2                              2               1   \n",
              "3                              1               6   \n",
              "4                              1               1   \n",
              "\n",
              "   tamanhoDaCelulaEpitelialUnica  nucleosNus  cromatinaSuave  normalNucleoni  \\\n",
              "0                              2           1               2               1   \n",
              "1                              2           1               2               1   \n",
              "2                              2           1               2               1   \n",
              "3                              3           1               2               1   \n",
              "4                              2           1               1               1   \n",
              "\n",
              "   mitoses  classeDoTumor  \n",
              "0        1              2  \n",
              "1        1              2  \n",
              "2        1              2  \n",
              "3        1              2  \n",
              "4        1              2  "
            ],
            "text/html": [
              "\n",
              "  <div id=\"df-d48476e1-09bb-4a02-a4bd-4b91742cef86\">\n",
              "    <div class=\"colab-df-container\">\n",
              "      <div>\n",
              "<style scoped>\n",
              "    .dataframe tbody tr th:only-of-type {\n",
              "        vertical-align: middle;\n",
              "    }\n",
              "\n",
              "    .dataframe tbody tr th {\n",
              "        vertical-align: top;\n",
              "    }\n",
              "\n",
              "    .dataframe thead th {\n",
              "        text-align: right;\n",
              "    }\n",
              "</style>\n",
              "<table border=\"1\" class=\"dataframe\">\n",
              "  <thead>\n",
              "    <tr style=\"text-align: right;\">\n",
              "      <th></th>\n",
              "      <th>Unnamed: 0</th>\n",
              "      <th>espessuraDoAglomerado</th>\n",
              "      <th>uniformidadeDoTamanhoDaCelula</th>\n",
              "      <th>uniformidadeDoFormatoDaCelula</th>\n",
              "      <th>adesaoMarginal</th>\n",
              "      <th>tamanhoDaCelulaEpitelialUnica</th>\n",
              "      <th>nucleosNus</th>\n",
              "      <th>cromatinaSuave</th>\n",
              "      <th>normalNucleoni</th>\n",
              "      <th>mitoses</th>\n",
              "      <th>classeDoTumor</th>\n",
              "    </tr>\n",
              "  </thead>\n",
              "  <tbody>\n",
              "    <tr>\n",
              "      <th>0</th>\n",
              "      <td>0</td>\n",
              "      <td>4</td>\n",
              "      <td>1</td>\n",
              "      <td>2</td>\n",
              "      <td>1</td>\n",
              "      <td>2</td>\n",
              "      <td>1</td>\n",
              "      <td>2</td>\n",
              "      <td>1</td>\n",
              "      <td>1</td>\n",
              "      <td>2</td>\n",
              "    </tr>\n",
              "    <tr>\n",
              "      <th>1</th>\n",
              "      <td>1</td>\n",
              "      <td>4</td>\n",
              "      <td>1</td>\n",
              "      <td>2</td>\n",
              "      <td>1</td>\n",
              "      <td>2</td>\n",
              "      <td>1</td>\n",
              "      <td>2</td>\n",
              "      <td>1</td>\n",
              "      <td>1</td>\n",
              "      <td>2</td>\n",
              "    </tr>\n",
              "    <tr>\n",
              "      <th>2</th>\n",
              "      <td>2</td>\n",
              "      <td>4</td>\n",
              "      <td>1</td>\n",
              "      <td>2</td>\n",
              "      <td>1</td>\n",
              "      <td>2</td>\n",
              "      <td>1</td>\n",
              "      <td>2</td>\n",
              "      <td>1</td>\n",
              "      <td>1</td>\n",
              "      <td>2</td>\n",
              "    </tr>\n",
              "    <tr>\n",
              "      <th>3</th>\n",
              "      <td>3</td>\n",
              "      <td>5</td>\n",
              "      <td>1</td>\n",
              "      <td>1</td>\n",
              "      <td>6</td>\n",
              "      <td>3</td>\n",
              "      <td>1</td>\n",
              "      <td>2</td>\n",
              "      <td>1</td>\n",
              "      <td>1</td>\n",
              "      <td>2</td>\n",
              "    </tr>\n",
              "    <tr>\n",
              "      <th>4</th>\n",
              "      <td>4</td>\n",
              "      <td>5</td>\n",
              "      <td>1</td>\n",
              "      <td>1</td>\n",
              "      <td>1</td>\n",
              "      <td>2</td>\n",
              "      <td>1</td>\n",
              "      <td>1</td>\n",
              "      <td>1</td>\n",
              "      <td>1</td>\n",
              "      <td>2</td>\n",
              "    </tr>\n",
              "  </tbody>\n",
              "</table>\n",
              "</div>\n",
              "      <button class=\"colab-df-convert\" onclick=\"convertToInteractive('df-d48476e1-09bb-4a02-a4bd-4b91742cef86')\"\n",
              "              title=\"Convert this dataframe to an interactive table.\"\n",
              "              style=\"display:none;\">\n",
              "        \n",
              "  <svg xmlns=\"http://www.w3.org/2000/svg\" height=\"24px\"viewBox=\"0 0 24 24\"\n",
              "       width=\"24px\">\n",
              "    <path d=\"M0 0h24v24H0V0z\" fill=\"none\"/>\n",
              "    <path d=\"M18.56 5.44l.94 2.06.94-2.06 2.06-.94-2.06-.94-.94-2.06-.94 2.06-2.06.94zm-11 1L8.5 8.5l.94-2.06 2.06-.94-2.06-.94L8.5 2.5l-.94 2.06-2.06.94zm10 10l.94 2.06.94-2.06 2.06-.94-2.06-.94-.94-2.06-.94 2.06-2.06.94z\"/><path d=\"M17.41 7.96l-1.37-1.37c-.4-.4-.92-.59-1.43-.59-.52 0-1.04.2-1.43.59L10.3 9.45l-7.72 7.72c-.78.78-.78 2.05 0 2.83L4 21.41c.39.39.9.59 1.41.59.51 0 1.02-.2 1.41-.59l7.78-7.78 2.81-2.81c.8-.78.8-2.07 0-2.86zM5.41 20L4 18.59l7.72-7.72 1.47 1.35L5.41 20z\"/>\n",
              "  </svg>\n",
              "      </button>\n",
              "      \n",
              "  <style>\n",
              "    .colab-df-container {\n",
              "      display:flex;\n",
              "      flex-wrap:wrap;\n",
              "      gap: 12px;\n",
              "    }\n",
              "\n",
              "    .colab-df-convert {\n",
              "      background-color: #E8F0FE;\n",
              "      border: none;\n",
              "      border-radius: 50%;\n",
              "      cursor: pointer;\n",
              "      display: none;\n",
              "      fill: #1967D2;\n",
              "      height: 32px;\n",
              "      padding: 0 0 0 0;\n",
              "      width: 32px;\n",
              "    }\n",
              "\n",
              "    .colab-df-convert:hover {\n",
              "      background-color: #E2EBFA;\n",
              "      box-shadow: 0px 1px 2px rgba(60, 64, 67, 0.3), 0px 1px 3px 1px rgba(60, 64, 67, 0.15);\n",
              "      fill: #174EA6;\n",
              "    }\n",
              "\n",
              "    [theme=dark] .colab-df-convert {\n",
              "      background-color: #3B4455;\n",
              "      fill: #D2E3FC;\n",
              "    }\n",
              "\n",
              "    [theme=dark] .colab-df-convert:hover {\n",
              "      background-color: #434B5C;\n",
              "      box-shadow: 0px 1px 3px 1px rgba(0, 0, 0, 0.15);\n",
              "      filter: drop-shadow(0px 1px 2px rgba(0, 0, 0, 0.3));\n",
              "      fill: #FFFFFF;\n",
              "    }\n",
              "  </style>\n",
              "\n",
              "      <script>\n",
              "        const buttonEl =\n",
              "          document.querySelector('#df-d48476e1-09bb-4a02-a4bd-4b91742cef86 button.colab-df-convert');\n",
              "        buttonEl.style.display =\n",
              "          google.colab.kernel.accessAllowed ? 'block' : 'none';\n",
              "\n",
              "        async function convertToInteractive(key) {\n",
              "          const element = document.querySelector('#df-d48476e1-09bb-4a02-a4bd-4b91742cef86');\n",
              "          const dataTable =\n",
              "            await google.colab.kernel.invokeFunction('convertToInteractive',\n",
              "                                                     [key], {});\n",
              "          if (!dataTable) return;\n",
              "\n",
              "          const docLinkHtml = 'Like what you see? Visit the ' +\n",
              "            '<a target=\"_blank\" href=https://colab.research.google.com/notebooks/data_table.ipynb>data table notebook</a>'\n",
              "            + ' to learn more about interactive tables.';\n",
              "          element.innerHTML = '';\n",
              "          dataTable['output_type'] = 'display_data';\n",
              "          await google.colab.output.renderOutput(dataTable, element);\n",
              "          const docLink = document.createElement('div');\n",
              "          docLink.innerHTML = docLinkHtml;\n",
              "          element.appendChild(docLink);\n",
              "        }\n",
              "      </script>\n",
              "    </div>\n",
              "  </div>\n",
              "  "
            ]
          },
          "metadata": {},
          "execution_count": 6
        }
      ]
    },
    {
      "cell_type": "markdown",
      "source": [
        "* Visto a falta de necessidade de uma coluna de índices, removeremos elas de ambas as bases"
      ],
      "metadata": {
        "id": "PnXYa1dk3CwX"
      }
    },
    {
      "cell_type": "code",
      "source": [
        "db1.pop(\"Unnamed: 0\")"
      ],
      "metadata": {
        "colab": {
          "base_uri": "https://localhost:8080/"
        },
        "id": "Y7sfFblB9iQ_",
        "outputId": "a1d1f392-a6ca-43a3-8854-4c0be0915e9b"
      },
      "execution_count": 7,
      "outputs": [
        {
          "output_type": "execute_result",
          "data": {
            "text/plain": [
              "0        0\n",
              "1        1\n",
              "2        2\n",
              "3        3\n",
              "4        4\n",
              "      ... \n",
              "595    595\n",
              "596    596\n",
              "597    597\n",
              "598    598\n",
              "599    599\n",
              "Name: Unnamed: 0, Length: 600, dtype: int64"
            ]
          },
          "metadata": {},
          "execution_count": 7
        }
      ]
    },
    {
      "cell_type": "code",
      "source": [
        "db2.pop(\"Unnamed: 0\")"
      ],
      "metadata": {
        "colab": {
          "base_uri": "https://localhost:8080/"
        },
        "id": "FTUa1f6-9w77",
        "outputId": "456fc171-94ec-4527-b566-997a3df9dae7"
      },
      "execution_count": 8,
      "outputs": [
        {
          "output_type": "execute_result",
          "data": {
            "text/plain": [
              "0        0\n",
              "1        1\n",
              "2        2\n",
              "3        3\n",
              "4        4\n",
              "      ... \n",
              "395    395\n",
              "396    396\n",
              "397    397\n",
              "398    398\n",
              "399    399\n",
              "Name: Unnamed: 0, Length: 400, dtype: int64"
            ]
          },
          "metadata": {},
          "execution_count": 8
        }
      ]
    },
    {
      "cell_type": "markdown",
      "source": [
        "* Importando a biblioteca sklearn no módulo de treino, teste e divisão"
      ],
      "metadata": {
        "id": "JJGaa3vgCu4W"
      }
    },
    {
      "cell_type": "code",
      "source": [
        "from sklearn.model_selection import train_test_split"
      ],
      "metadata": {
        "id": "tYJzopDvnJMe"
      },
      "execution_count": 9,
      "outputs": []
    },
    {
      "cell_type": "markdown",
      "source": [
        "* Importando a biblioteca sklearn com o módulo svm\n",
        "\n"
      ],
      "metadata": {
        "id": "nDtQsH5dqwtx"
      }
    },
    {
      "cell_type": "code",
      "source": [
        "from sklearn import svm"
      ],
      "metadata": {
        "id": "JCEui4n_LYBO"
      },
      "execution_count": 10,
      "outputs": []
    },
    {
      "cell_type": "markdown",
      "source": [
        "* Importando a biblioteca numpy e a apelidando de 'np'\n",
        "\n",
        "\n",
        "\n",
        "\n"
      ],
      "metadata": {
        "id": "nrLghLVhneLR"
      }
    },
    {
      "cell_type": "code",
      "source": [
        "import numpy as np"
      ],
      "metadata": {
        "id": "PaDkeVuHn2H8"
      },
      "execution_count": 11,
      "outputs": []
    },
    {
      "cell_type": "markdown",
      "source": [
        "* Importando a biblioteca sklearn com o módulo de matriz de confusão\n",
        "* Importando a biblioteca seaborn e a apelidando de 'sns'"
      ],
      "metadata": {
        "id": "_jqqYKbBXGBH"
      }
    },
    {
      "cell_type": "code",
      "source": [
        "from sklearn.metrics import confusion_matrix\n",
        "import seaborn as sns"
      ],
      "metadata": {
        "id": "ILNGvfzQVQPX"
      },
      "execution_count": 36,
      "outputs": []
    },
    {
      "cell_type": "markdown",
      "source": [
        "* Definindo a função que imprime as matrizes de confusão"
      ],
      "metadata": {
        "id": "fIzU4xdtW7ws"
      }
    },
    {
      "cell_type": "code",
      "source": [
        "def plot_confusion_matrix(cm):\n",
        "    ax = sns.heatmap(cm, annot=True, fmt='g', cmap='Blues')\n",
        "    ax.set(ylabel='Valor verdadeiro')\n",
        "    ax.set(xlabel='Valor previsto')\n",
        "    labels = ['Verdadeiro Negativo', \n",
        "              'Falso Positivo', \n",
        "              'Falso Negativo', \n",
        "              'Verdadeiro Positivo']\n",
        "    ax.set(yticklabels=['Negativo','Positivo'])\n",
        "    ax.set(xticklabels=['Negativo','Positivo'])\n",
        "\n",
        "    count = 0\n",
        "    bacc = []\n",
        "    for idx, text in enumerate(ax.texts):\n",
        "        label = int(text.get_text())\n",
        "        count += label\n",
        "        bacc.append(label)\n",
        "\n",
        "    acc1 = bacc[0] / ( bacc[0] + bacc[2] )\n",
        "    acc2 = bacc[3] / ( bacc[1] + bacc[3] ) \n",
        "    balanced_accuracy = ( acc1 + acc2 ) / 2\n",
        "    for idx,text in enumerate(ax.texts):\n",
        "        square = text.get_text()\n",
        "        percent = int(text.get_text()) / count\n",
        "        percent = \"{0:.0%}\".format(percent)\n",
        "        box_text = \"{0}: \\n \\n {1} \\n \\n {2}\".format(labels[idx], square, percent)\n",
        "        text.set_text(box_text)\n",
        "    ax.set_title('Matriz de Confusão')"
      ],
      "metadata": {
        "id": "cWmh1NxxVE4_"
      },
      "execution_count": 37,
      "outputs": []
    },
    {
      "cell_type": "markdown",
      "source": [
        "# Testes com a base de dados 1, onde temos 65% benigno"
      ],
      "metadata": {
        "id": "mb76RKq_KKos"
      }
    },
    {
      "cell_type": "markdown",
      "source": [
        "* Criando a variável x1 com o dataframe db1, sem a coluna alvo\n",
        "* Criando a variável y1 com o dataframe db1, somente com a coluna alvo"
      ],
      "metadata": {
        "id": "dVZJb0FBKKMo"
      }
    },
    {
      "cell_type": "code",
      "source": [
        "x1 = db1.drop('classeDoTumor', axis=1)\n",
        "y1 = db1['classeDoTumor']"
      ],
      "metadata": {
        "id": "1EEUTY62C6xY"
      },
      "execution_count": 40,
      "outputs": []
    },
    {
      "cell_type": "markdown",
      "source": [
        "* Criando valores aleatórios para os testes\n",
        "* Dividindo a base de dados em zona de teste (30%) e zona e treino (70%)"
      ],
      "metadata": {
        "id": "nbJvfprhMFJE"
      }
    },
    {
      "cell_type": "code",
      "source": [
        "rng = np.random.RandomState(0)\n",
        "xDeTreino, xDeTeste, yDeTreino, yDeTeste = train_test_split(x1, y1, test_size = 0.3, random_state = rng)"
      ],
      "metadata": {
        "id": "NGoDac4SpX19"
      },
      "execution_count": 41,
      "outputs": []
    },
    {
      "cell_type": "markdown",
      "source": [
        "* Criando classificador SVM com C com valor 1"
      ],
      "metadata": {
        "id": "PwLJoq0pM2wD"
      }
    },
    {
      "cell_type": "code",
      "source": [
        "clf = svm.SVC(C=1.0)"
      ],
      "metadata": {
        "id": "1sgjcCrQEGoV"
      },
      "execution_count": 42,
      "outputs": []
    },
    {
      "cell_type": "markdown",
      "source": [
        "* Treinando o classificador"
      ],
      "metadata": {
        "id": "B9YXpMkzNIKM"
      }
    },
    {
      "cell_type": "code",
      "source": [
        "clf.fit(xDeTreino, yDeTreino)"
      ],
      "metadata": {
        "colab": {
          "base_uri": "https://localhost:8080/"
        },
        "id": "4HHTswidIs1W",
        "outputId": "4a346d2c-5bdd-4372-edbe-3728de03d55a"
      },
      "execution_count": 43,
      "outputs": [
        {
          "output_type": "execute_result",
          "data": {
            "text/plain": [
              "SVC()"
            ]
          },
          "metadata": {},
          "execution_count": 43
        }
      ]
    },
    {
      "cell_type": "markdown",
      "source": [
        "* Observando o que foi predito"
      ],
      "metadata": {
        "id": "_ARX5ObzNJ3c"
      }
    },
    {
      "cell_type": "code",
      "source": [
        "yPred = clf.predict(xDeTeste)\n",
        "print (yPred)"
      ],
      "metadata": {
        "colab": {
          "base_uri": "https://localhost:8080/"
        },
        "id": "nZaKkQrLFc02",
        "outputId": "8f9f3ab7-fc5b-40f1-84eb-d125db262bd2"
      },
      "execution_count": 44,
      "outputs": [
        {
          "output_type": "stream",
          "name": "stdout",
          "text": [
            "[4 2 2 4 2 2 4 4 4 2 2 4 2 2 2 4 4 2 2 2 4 4 2 2 4 2 2 4 4 4 2 4 2 2 2 4 2\n",
            " 2 2 2 2 2 2 2 2 2 2 2 4 2 2 2 2 2 2 2 2 2 4 4 4 2 2 2 4 4 2 4 4 2 2 2 2 4\n",
            " 2 2 2 4 4 4 4 2 2 4 2 2 2 2 2 2 4 4 4 2 4 2 4 2 2 2 2 2 4 2 2 2 4 4 4 4 2\n",
            " 2 2 2 4 2 2 4 2 4 2 4 2 2 2 2 4 4 4 4 2 2 4 2 2 4 2 2 2 4 2 4 2 2 4 4 2 2\n",
            " 4 2 2 2 4 2 2 2 2 2 2 2 2 2 2 2 4 4 2 2 4 4 2 4 2 2 4 2 2 4 4 2]\n"
          ]
        }
      ]
    },
    {
      "cell_type": "markdown",
      "source": [
        "* Observando o que havia em y"
      ],
      "metadata": {
        "id": "vKWHsa5yNX4c"
      }
    },
    {
      "cell_type": "code",
      "source": [
        "yDeTeste"
      ],
      "metadata": {
        "colab": {
          "base_uri": "https://localhost:8080/"
        },
        "id": "XUYXTdP4JdpN",
        "outputId": "d65b869c-1927-4b09-bd6f-055ddb5e772b"
      },
      "execution_count": 45,
      "outputs": [
        {
          "output_type": "execute_result",
          "data": {
            "text/plain": [
              "434    4\n",
              "122    2\n",
              "224    2\n",
              "479    4\n",
              "205    2\n",
              "      ..\n",
              "249    2\n",
              "357    2\n",
              "455    4\n",
              "493    4\n",
              "134    2\n",
              "Name: classeDoTumor, Length: 180, dtype: int64"
            ]
          },
          "metadata": {},
          "execution_count": 45
        }
      ]
    },
    {
      "cell_type": "markdown",
      "source": [
        "* Observando o nível de acerto do modelo"
      ],
      "metadata": {
        "id": "kQtdNQMzNeGV"
      }
    },
    {
      "cell_type": "code",
      "source": [
        "clf.score(xDeTeste, yDeTeste)"
      ],
      "metadata": {
        "colab": {
          "base_uri": "https://localhost:8080/"
        },
        "id": "MhgxosyDFxsf",
        "outputId": "fe0b552f-e243-484f-e2f8-b35ea7bf33e9"
      },
      "execution_count": 46,
      "outputs": [
        {
          "output_type": "execute_result",
          "data": {
            "text/plain": [
              "0.9777777777777777"
            ]
          },
          "metadata": {},
          "execution_count": 46
        }
      ]
    },
    {
      "cell_type": "markdown",
      "source": [
        "* Instanciando a matriz de confusão e imprimindo-a"
      ],
      "metadata": {
        "id": "WsR1_guYXlt5"
      }
    },
    {
      "cell_type": "code",
      "source": [
        "cm = confusion_matrix(yDeTeste, yPred)\n",
        "plot_confusion_matrix(cm)"
      ],
      "metadata": {
        "colab": {
          "base_uri": "https://localhost:8080/",
          "height": 295
        },
        "outputId": "e12a546c-eb20-4195-9750-ac8822ef8176",
        "id": "d2XPPcReXlt6"
      },
      "execution_count": 47,
      "outputs": [
        {
          "output_type": "display_data",
          "data": {
            "text/plain": [
              "<Figure size 432x288 with 2 Axes>"
            ],
            "image/png": "[encoded data removed]"
          },
          "metadata": {
            "needs_background": "light"
          }
        }
      ]
    },
    {
      "cell_type": "code",
      "source": [
        ""
      ],
      "metadata": {
        "id": "PxyDinZvXk_Q"
      },
      "execution_count": null,
      "outputs": []
    },
    {
      "cell_type": "markdown",
      "source": [
        "# Testes com a base de dados 2, onde temos 50% benigno"
      ],
      "metadata": {
        "id": "X7Lo8SKnJ9EO"
      }
    },
    {
      "cell_type": "markdown",
      "source": [
        "* Criando a variável x2 com o dataframe db2, sem a coluna alvo\n",
        "* Criando a variável y2 com o dataframe db2, somente com a coluna alvo"
      ],
      "metadata": {
        "id": "GUpgwnnZMBPN"
      }
    },
    {
      "cell_type": "code",
      "source": [
        "x2 = db2.drop('classeDoTumor', axis=1)\n",
        "y2 = db2['classeDoTumor']"
      ],
      "metadata": {
        "id": "_LYwY2rQKm_V"
      },
      "execution_count": 29,
      "outputs": []
    },
    {
      "cell_type": "markdown",
      "source": [
        "* Criando valores aleatórios para os testes\n",
        "* Dividindo a base de dados em zona de teste (30%) e zona e treino (70%)"
      ],
      "metadata": {
        "id": "7S-AbQ5uMYhx"
      }
    },
    {
      "cell_type": "code",
      "source": [
        "rng2 = np.random.RandomState(0)\n",
        "xDeTreino2, xDeTeste2, yDeTreino2, yDeTeste2 = train_test_split(x2, y2, test_size = 0.3, random_state = rng2)"
      ],
      "metadata": {
        "id": "DeFOKe9OKTWU"
      },
      "execution_count": 30,
      "outputs": []
    },
    {
      "cell_type": "markdown",
      "source": [
        "* Criando classificador SVM com C com valor 1"
      ],
      "metadata": {
        "id": "z7ab4E6DNA_z"
      }
    },
    {
      "cell_type": "code",
      "source": [
        "clf2 = svm.SVC(C=1.0)"
      ],
      "metadata": {
        "id": "yDS_JQzIKTWW"
      },
      "execution_count": 31,
      "outputs": []
    },
    {
      "cell_type": "markdown",
      "source": [
        "* Treinando o classificador"
      ],
      "metadata": {
        "id": "SqChVHKTNDPP"
      }
    },
    {
      "cell_type": "code",
      "source": [
        "clf2.fit(xDeTreino2, yDeTreino2)"
      ],
      "metadata": {
        "colab": {
          "base_uri": "https://localhost:8080/"
        },
        "outputId": "2dbe2f2c-d7b2-473e-a213-2489149a2c43",
        "id": "YcjX6xNdKTWX"
      },
      "execution_count": 32,
      "outputs": [
        {
          "output_type": "execute_result",
          "data": {
            "text/plain": [
              "SVC()"
            ]
          },
          "metadata": {},
          "execution_count": 32
        }
      ]
    },
    {
      "cell_type": "markdown",
      "source": [
        "* Observando o que foi predito"
      ],
      "metadata": {
        "id": "3fOMEX1JNPT9"
      }
    },
    {
      "cell_type": "code",
      "source": [
        "yPred2 = clf2.predict(xDeTeste2)\n",
        "print(yPred2)"
      ],
      "metadata": {
        "colab": {
          "base_uri": "https://localhost:8080/"
        },
        "outputId": "08d2c2ce-b5fc-423c-93f9-8662aa6f51f2",
        "id": "Dq7qWJW_KTWZ"
      },
      "execution_count": 33,
      "outputs": [
        {
          "output_type": "stream",
          "name": "stdout",
          "text": [
            "[2 4 4 2 4 2 2 4 2 4 2 2 2 4 2 2 4 2 4 2 4 4 2 4 2 4 2 2 4 2 4 4 4 4 2 2 2\n",
            " 4 2 4 2 4 2 2 4 2 4 4 2 4 4 2 4 2 4 4 2 2 2 2 2 4 2 4 2 4 2 2 2 2 2 4 2 2\n",
            " 2 2 4 4 4 4 4 2 2 2 4 4 2 4 4 4 4 4 2 2 2 2 2 4 4 4 4 2 4 2 4 4 2 4 2 4 2\n",
            " 4 4 2 4 4 4 2 4 4]\n"
          ]
        }
      ]
    },
    {
      "cell_type": "markdown",
      "source": [
        "* Observando o que existia em y"
      ],
      "metadata": {
        "id": "aIOHYe_uNRlT"
      }
    },
    {
      "cell_type": "code",
      "source": [
        "yDeTeste2"
      ],
      "metadata": {
        "colab": {
          "base_uri": "https://localhost:8080/"
        },
        "outputId": "f09dd0f9-58dd-4d3f-8583-691d3a24320a",
        "id": "M_eyvOuDKTWa"
      },
      "execution_count": 34,
      "outputs": [
        {
          "output_type": "execute_result",
          "data": {
            "text/plain": [
              "132    2\n",
              "309    4\n",
              "341    4\n",
              "196    2\n",
              "246    4\n",
              "      ..\n",
              "216    4\n",
              "259    4\n",
              "49     2\n",
              "238    4\n",
              "343    4\n",
              "Name: classeDoTumor, Length: 120, dtype: int64"
            ]
          },
          "metadata": {},
          "execution_count": 34
        }
      ]
    },
    {
      "cell_type": "markdown",
      "source": [
        "* Observando o nível de acerto do modelo"
      ],
      "metadata": {
        "id": "Gtm0C2dJNoVm"
      }
    },
    {
      "cell_type": "code",
      "source": [
        "clf.score(xDeTeste2, yDeTeste2)"
      ],
      "metadata": {
        "colab": {
          "base_uri": "https://localhost:8080/"
        },
        "outputId": "0084d4d4-5a53-46e6-f388-292ec31258ab",
        "id": "AI4U3rIvKTWb"
      },
      "execution_count": 35,
      "outputs": [
        {
          "output_type": "execute_result",
          "data": {
            "text/plain": [
              "0.9666666666666667"
            ]
          },
          "metadata": {},
          "execution_count": 35
        }
      ]
    },
    {
      "cell_type": "markdown",
      "source": [
        "* Instanciando a matriz de confusão e imprimindo-a"
      ],
      "metadata": {
        "id": "d7ure3QbXYsb"
      }
    },
    {
      "cell_type": "code",
      "source": [
        "cm = confusion_matrix(yDeTeste2, yPred2)\n",
        "plot_confusion_matrix(cm)"
      ],
      "metadata": {
        "colab": {
          "base_uri": "https://localhost:8080/",
          "height": 295
        },
        "id": "bY2K4MPdVOT-",
        "outputId": "08f86240-8edc-4a0d-e1fc-f07f4c0eef37"
      },
      "execution_count": 38,
      "outputs": [
        {
          "output_type": "display_data",
          "data": {
            "text/plain": [
              "<Figure size 432x288 with 2 Axes>"
            ],
            "image/png": "[encoded data removed]"
          },
          "metadata": {
            "needs_background": "light"
          }
        }
      ]
    }
  ]
}