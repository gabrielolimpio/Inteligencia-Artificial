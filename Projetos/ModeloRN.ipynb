{
  "nbformat": 4,
  "nbformat_minor": 0,
  "metadata": {
    "colab": {
      "name": "ModeloRN.ipynb",
      "provenance": [],
      "collapsed_sections": []
    },
    "kernelspec": {
      "name": "python3",
      "display_name": "Python 3"
    },
    "language_info": {
      "name": "python"
    }
  },
  "cells": [
    {
      "cell_type": "markdown",
      "source": [
        "**Instituto de Informática - UFG**\n",
        "\n",
        "Disciplina: Inteligência Artificial\n",
        "\n",
        "Prof. Cedric Luiz de Carvalho\n",
        "\n",
        "\n",
        "Grupo (Gabriel Olímpio Rocha Leão, Geovanny Magalhães Novais)\n",
        "\n",
        "---\n",
        "\n",
        "\n",
        "Analista de dados: Gabriel Olímpio Rocha Leão\n",
        "\n",
        "---\n",
        "\n",
        "Engenheiro(a) do conhecimento: Geovanny Magalhães Novais\n",
        "\n",
        "---"
      ],
      "metadata": {
        "id": "zFgSmAhYesqK"
      }
    },
    {
      "cell_type": "markdown",
      "source": [
        "#Morte hospitalar\n",
        "\n",
        "A morte, dentro do hospital traz consigo uma gama de significados culturais que o ser humano construiu ao longo de sua existência (Kovács, 2008; Cherix & Kovács, 2012).  Segundo França & Botomé (2005), a palavra morte traz consigo muitos atributos e associações: dor, ruptura, interrupção, desconhecimento, tristeza. Designa o fim absoluto de um ser humano, de um animal, de uma planta, de uma ideia que \"chegada ao topo da montanha, admira-se ante a paisagem, mas compreende ser obrigatória a descida\" (p. 547). \n",
        "\n",
        "Visando minimizar a dor causada pela perda e a possibilidade de salvar o maior número possível de pacientes, existe uma insurgência em produzir um método que preveja com certo nível de rigor, a mortalidade de pacientes assim que estes adentrem ao ambiente hospitalar. Dada a quantidade massiva de dados necessários para descrever um paciente, recorremos então as redes neurais."
      ],
      "metadata": {
        "id": "etsGHC_Q4mwc"
      }
    },
    {
      "cell_type": "markdown",
      "source": [
        "#Descrição das redes neurais\n",
        "\n",
        "As redes neurais foram projetadas para ajudar as pessoas a resolver problemas complexos.\n",
        "Sua habilidade de aprender e modelar relações entre entradas e saídas de dados que são não-lineares e complexos; realizar generalizações e inferências; revelar relacionamentos, padrões e predições ocultas e modelar dados altamente voláteis  e variâncias necessárias para prever eventos raros, permite solucionar dilemas da vida real em múltiplas frentes de estudo."
      ],
      "metadata": {
        "id": "R0opTTfMeiKT"
      }
    },
    {
      "cell_type": "markdown",
      "source": [
        "#Características das redes neurais\n",
        "\n",
        "As redes neurais artificiais (RNA) possui grande utilidade, porque se baseiam na estrutura do sistema nervoso humano, principalmente o cérebro, algumas características das redes neurais são:\n",
        "\n",
        "**Sua Aprendizagem:** as RNAs têm a capacidade de aprender através de uma fase chamada fase de aprendizagem. Trata-se de fornecer dados como entrada RNA, por sua vez, informando qual é a saída (resposta) que é esperada.\n",
        "\n",
        "**Auto-organização:** uma RNA cria sua própria representação de informação no seu interior, descarregando ao usuário isto.\n",
        "\n",
        "**Tolerância a falhas:** Como uma RNA armazena informações de forma redundante, pode continuar a responder de uma forma aceitável, mesmo que esteja parcialmente danificada.\n",
        "\n",
        "**Flexibilidade:** Uma rede neural pode lidar com grandes mudanças na informação de entrada, tais como sinais ruidosos ou outras alterações na entrada (por exemplo, se a informação de entrada é a imagem de um objeto, a correspondente resposta mantém-se inalterada, mesmo se a imagem muda um pouco de brilho ou o objeto muda um pouco de formato).\n",
        "\n",
        "**Real Time:** A estrutura de uma RNA é paralela, de modo que se for implementado com computadores ou dispositivos eletrônicos especiais, podem obter respostas em tempo real."
      ],
      "metadata": {
        "id": "W44aGYgZ0k0G"
      }
    },
    {
      "cell_type": "markdown",
      "source": [
        "#Vantagens\n",
        "* Elas são extremamente simples, uma vez que tenhamos entendido os modelos lineares\n",
        "* São bastante intuitivas, pois permitem a interpretação de aprendizado de níveis de abstrações hierárquicos\n",
        "* São muito flexíveis, o que as torna ideais para resolver os mais diversos tipos de problemas\n",
        "* São absurdamente efetivas quanto a qualidade dos resultados"
      ],
      "metadata": {
        "id": "54V819tFvhU_"
      }
    },
    {
      "cell_type": "markdown",
      "source": [
        "# Desvantagens\n",
        "* Grande uso de processamento\n",
        "* Necessita de grande uso de armazenamento\n",
        "* Possui um treinamento difícil, que exige uma grande quantidade de testes afim de conseguir bons resultados"
      ],
      "metadata": {
        "id": "B3XLU48gwQhk"
      }
    },
    {
      "cell_type": "markdown",
      "source": [
        "#Referências utilizadas"
      ],
      "metadata": {
        "id": "8CPEqCdw9xEf"
      }
    },
    {
      "cell_type": "markdown",
      "source": [
        "* http://pepsic.bvsalud.org/scielo.php?script=sci_arttext&pid=S1516-08582011000200013\n",
        "\n",
        "\n",
        "* http://pepsic.bvsalud.org/scielo.php?script=sci_arttext&pid=S1516-08582015000200009\n",
        "\n",
        "* https://scikit-learn.org/stable/modules/neural_networks_supervised.html\n",
        "\n",
        "* https://scikit-learn.org/stable/modules/classes.html?highlight=neural%20network#module-sklearn.neural_network\n",
        "\n"
      ],
      "metadata": {
        "id": "_9prJp0S91IR"
      }
    }
  ]
}