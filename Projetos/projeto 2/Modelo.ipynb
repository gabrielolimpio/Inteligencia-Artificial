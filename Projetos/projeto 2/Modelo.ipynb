{
  "nbformat": 4,
  "nbformat_minor": 0,
  "metadata": {
    "colab": {
      "name": "Modelo.ipynb",
      "provenance": [],
      "collapsed_sections": []
    },
    "kernelspec": {
      "name": "python3",
      "display_name": "Python 3"
    },
    "language_info": {
      "name": "python"
    }
  },
  "cells": [
    {
      "cell_type": "markdown",
      "source": [
        "**Instituto de Informática - UFG**\n",
        "\n",
        "Disciplina: Inteligência Computacional\n",
        "\n",
        "Prof. Cedric Luiz de Carvalho\n",
        "\n",
        "\n",
        "Grupo (Gabriel Olímpio Rocha Leão, Geovanny Magalhães Novais)\n",
        "\n",
        "---\n",
        "\n",
        "\n",
        "Analista de dados: Geovanny Magalhães Novais\n",
        "\n",
        "---\n",
        "\n",
        "Engenheiro(a) do conhecimento: Gabriel Olímpio Rocha Leão\n",
        "\n",
        "---"
      ],
      "metadata": {
        "id": "zFgSmAhYesqK"
      }
    },
    {
      "cell_type": "markdown",
      "source": [
        "#Fraudes bancárias\n",
        "\n",
        "Existem inúmeras formas de fraudes bancárias, desde golpes físicos à digitais,  pelos quais clientes e instituições são prejudicados diariamente. Iremos apresentar alguns exemplos que ilustram essa realidade cada vez mais corriqueira. \n",
        "\n",
        "O golpe do roubo de dados do cartão pode ocorrer de forma física, quando um usuário tem seu cartão roubado; e virtualmente, quando o consumidor insere os dados do cartão em sites falsos, desprotegidos ou não confiáveis. Em posse desses dados, os fraudadores conseguem fazer compras e aplicar golpes até que o usuário descubra e bloqueie o cartão.\n",
        "\n",
        "O Phishing consiste na ação de criminosos que se passam por conhecidos, plataformas de e-commerce ou de instituições financeiras para roubar dados pessoais e bancários de suas vítimas. O golpe envolve a criação de um site falso extremamente semelhante ao de outras empresas. Por meio de mensagens via e-mail, WhatsApp ou SMS, os criminosos enviam um link, solicitando a confirmação de dados. Ao clicar neste link, as vítimas são redirecionadas para o site falso, onde acabam caindo no golpe e fornecendo seus dados.\n",
        "\n",
        "Há também o golpe do envio de boletos bancários falsos, que consiste na criação de boletos falsos em nome de grandes empresas. Ao efetuar o pagamento, a vítima deposita o dinheiro na conta dos fraudadores. Algumas versões desse tipo de fraude podem envolver até mesmo a criação de páginas falsas que simulam o ambiente da empresa, para onde as vítimas são redirecionadas a fim de baixar o documento falso sem suspeitar do golpe.\n",
        "\n",
        "Podemos perceber que é muito importante se preocupar com a segurança digital, a fim de evitar a ocorrência dessas tentativas de golpes. Como prova disso, de acordo com o site AgênciaBrasil, a Febraban afirma que os bancos investem R$ 2,5 bilhões por ano em segurança digital."
      ],
      "metadata": {
        "id": "etsGHC_Q4mwc"
      }
    },
    {
      "cell_type": "markdown",
      "source": [
        "#Descrição do modelo\n",
        "\n",
        "Uma árvore de decisão é um método de classificação de dados que é estruturado por nós, onde o primeiro nó é considerado o atributo mais importante e os nós subsequentes são menos importantes a cada nível da árvore. Dessa forma, fica explícito os fatores mais relevantes no modelo em questão. \n",
        "\n",
        "Sua estrutura é feita da seguinte forma: cada nó representa um ponte de decisão que testa um atributo; cada ramo é um possível valor do atributo; cada nó folha é associado a uma classe (pré-existente ou não) e, o caminho da raiz a uma folha representa uma regra de associação. \n",
        "\n",
        "As vantagens são que as árvores de decisão retornam valores discretos, são fáceis de interpretar, os atributos mais relevantes ficam próximos à raiz da árvore, e podem ser adaptáveis às árvores de regressão. Utiliza-se de treinamentos para classificação e previão de dados."
      ],
      "metadata": {
        "id": "R0opTTfMeiKT"
      }
    },
    {
      "cell_type": "markdown",
      "source": [
        "* Segue o link do drive com os arquivos:\n",
        "\n",
        "\n",
        "https://drive.google.com/drive/folders/1H4lOPo2aEQ1V5QWJA5MJQsdOlHpFD9UC?usp=sharing"
      ],
      "metadata": {
        "id": "bGoh0WOXClJb"
      }
    },
    {
      "cell_type": "markdown",
      "source": [
        "#Resolvendo o problema com uma árvore de decisão\n",
        "\n",
        "Após a análise exploratória de dados, identificamos os dados cruciais para a nossa análise preditiva quanto à presença ou não de fraudes em transação bancárias. Utilizando as informações contidas em colunasDeInteresse podemos notar como se comportam as fraudes para que possamos diferenciá-las usando uma árvore de decisão do tipo CART."
      ],
      "metadata": {
        "id": "W44aGYgZ0k0G"
      }
    },
    {
      "cell_type": "markdown",
      "source": [
        "#Escolha do algoritmo"
      ],
      "metadata": {
        "id": "mxterOLBvUhS"
      }
    },
    {
      "cell_type": "markdown",
      "source": [
        "#**CART (Classification And Regression Trees)**\n",
        "#Características\n",
        "\n",
        "\n",
        "* O algoritmo possui como objetivo criar decisões através de uma divisão estritamente binária com alvo em seus atributos principais e seus percursores, ou seja, ao usar o primeiro nó (raiz da árvore) este só poderá estar ligado a dois nós, assim sucessivamente ao crescimento da árvore, até que encontre uma folha (Wu, 2009).\n",
        "\n",
        "* A cada interação, a árvore é dividida baseada na variavel que produzir a maior queda no erro de classificação.\n",
        "\n",
        "* O CART utiliza o Indíce de Gini para medir o índice de impureza do conjunto de dados a ser analisado.\n",
        "\n",
        "* A forma com que essa árvore cresce é relacionada à sua quantidade de decisões, gerando divisões binárias até que não existam mais possibilidades. Como resultado, o nó não pode mais ser dividido, este então é transformado em nó terminal (folha).\n",
        "\n",
        "* Sempre que for gerar uma pergunta, dividimos o nó em dois nós filhos, já que as perguntas são apenas aquelas que possuem resposta do tipo 'true' ou 'false'.\n",
        "\n",
        "* Por se tratar de uma base com somente dados binários, a utilização deste algoritmo torna-se conveniente descrever o algoritmo escolhido e suas razões por ter escolhido"
      ],
      "metadata": {
        "id": "a-Hu9k_asq37"
      }
    },
    {
      "cell_type": "markdown",
      "source": [
        "#Vantagens\n",
        "* Fácil de usar e entender.\n",
        "* Pode lidar com dados categóricos e númericos.\n",
        "* Resistente a outliers, por isso requer pouco pré-processamento de dados.\n",
        "* Novos recursos podem ser facilmente adicionados.\n",
        "* Pode ser usado para criar classificadores grandes usando métodos de conjunto."
      ],
      "metadata": {
        "id": "54V819tFvhU_"
      }
    },
    {
      "cell_type": "markdown",
      "source": [
        "# Desvantagens\n",
        "* Propenso a overfitting (sobreajuste).\n",
        "* Necesita de algum tipo de medição da forma que está sendo conduzido.\n",
        "* É preciso ter cuidado com o ajuste dos parâmetros."
      ],
      "metadata": {
        "id": "B3XLU48gwQhk"
      }
    },
    {
      "cell_type": "markdown",
      "source": [
        "#Referências utilizadas"
      ],
      "metadata": {
        "id": "8CPEqCdw9xEf"
      }
    },
    {
      "cell_type": "markdown",
      "source": [
        "* https://maplink.global/blog/tipos-de-fraudes-digitais/\n",
        "\n",
        "* https://agenciabrasil.ebc.com.br/economia/noticia/2021-10/fraudes-contra-clientes-de-bancos-crescem-165-em-2021\n",
        "\n",
        "* https://towardsdatascience.com/id3-decision-tree-classifier-from-scratch-in-python-b38ef145fd90\n",
        "\n",
        "* https://minerandodados.com.br/arvores-de-decisao-conceitos-e-aplicacoes/\n",
        "\n",
        "* https://scikit-learn.org/stable/modules/tree.html\n",
        "\n",
        "* https://www.geeksforgeeks.org/decision-tree-implementation-python/\n",
        "\n",
        "* https://plotly.com/\n",
        "\n"
      ],
      "metadata": {
        "id": "_9prJp0S91IR"
      }
    }
  ]
}