{
  "nbformat": 4,
  "nbformat_minor": 0,
  "metadata": {
    "colab": {
      "name": "Modelo.ipynb",
      "provenance": [],
      "collapsed_sections": []
    },
    "kernelspec": {
      "name": "python3",
      "display_name": "Python 3"
    },
    "language_info": {
      "name": "python"
    }
  },
  "cells": [
    {
      "cell_type": "markdown",
      "source": [
        "**Instituto de Informática - UFG**\n",
        "\n",
        "Disciplina: Inteligência Computacional\n",
        "\n",
        "Prof. Cedric Luiz de Carvalho\n",
        "\n",
        "\n",
        "Grupo (Gabriel Olímpio Rocha Leão, Geovanny Magalhães Novais)\n",
        "\n",
        "---\n",
        "\n",
        "\n",
        "Analista de dados: Geovanny Magalhães Novais\n",
        "\n",
        "---\n",
        "\n",
        "Engenheiro(a) do conhecimento: Gabriel Olímpio Rocha Leão\n",
        "\n",
        "---"
      ],
      "metadata": {
        "id": "zFgSmAhYesqK"
      }
    },
    {
      "cell_type": "markdown",
      "source": [
        "# Doenças cardiovasculares\n",
        "\n",
        "Doença cardiovascular é um termo genérico que designa todas as alterações patológicas que afetam o coração e/ou os vasos sanguíneos\n",
        "\n",
        "As doenças cardiovasculares são umas das principais causas de mortes a nível mundial. Elas são normalmente relacionadas a hábitos de vida poucos saudáveis, através da alimentação e com a falta de atividade física. No entanto, há  também as doenças cardiovasculares que podem ser diagnosticadas logo ao nascimento, como é o caso das cardiopatias congênitas.\n",
        "\n",
        "**Algumas doenças cardiovasculares:**\n",
        "* Hipertensão\n",
        "* Infarto agudo do miocárdio\n",
        "* Insuficiência cardíaca\n",
        "* Arritmias cardíacas\n",
        "\n",
        "**Prevenção contra as doenças cardiovasculares:**\n",
        "* Deixar de fumar\n",
        "* Controlar a pressão arterial\n",
        "* Controlar o nível de açúcar no sangue\n",
        "* Controlar a quantidade de gordura no sangue\n",
        "* Ter uma alimentação saudável, evitando gorduras e comendo mais verduras, frutas e cereais\n",
        "* Praticar exercício físico regular, 3-5 vezes por semana\n",
        "* Evitar o consumo de bebidas alcoólicas\n"
      ],
      "metadata": {
        "id": "etsGHC_Q4mwc"
      }
    },
    {
      "cell_type": "markdown",
      "source": [
        "#Descrição do modelo\n",
        "\n",
        "Utilizando da [base de dados](https://www.kaggle.com/andrewmvd/heart-failure-clinical-data) construiremos uma rede bayesiana que tenta prever a sobrevivência dos(as) pacientes seguindo as seguintes variáveis e suas descrições:\n",
        "\n",
        "**age:** Representa a idade do(a) paciente\n",
        "\n",
        "**anaemia:** Representa se o(a) paciente está anêmico (1) ou não (0)\n",
        "\n",
        "**creatinine_phosphokinase:** Representa a quantidade da enzima CPK no sangue\n",
        "\n",
        "**diabetes:** Representa se o(a) paciente é diabético (1) ou não (0)\n",
        "\n",
        "**ejection_fraction:** Representa a porcentagem de sangue que sai do coração em cada contração\n",
        "\n",
        "**high_blood_pressure:** Representa se o(a) paciente é hipertenso (1) ou não (0)\n",
        "\n",
        "**platelets:** Representa o nível de plaqueta no sangue\n",
        "\n",
        "**serum_creatinine:** Representa o nível de creatina no sangue\n",
        "\n",
        "**serum_sodium:** Representa o nível de sódio no sangue\n",
        "\n",
        "**sex:** Representa se é o paciente (1) ou a paciente (0)\n",
        "\n",
        "**smoking:** Representa se o(a) paciente é fumante (1) ou não (0)\n",
        "\n",
        "**time:** Representa o tempo que o(a) paciente está sob acompanhamento em dias\n",
        "\n",
        "**DEATH_EVENT:** Representa se o(a) paciente não sobreviveu (1) ou sobreviveu (0)\n"
      ],
      "metadata": {
        "id": "R0opTTfMeiKT"
      }
    },
    {
      "cell_type": "markdown",
      "source": [
        "#Escolha do algoritmo"
      ],
      "metadata": {
        "id": "mxterOLBvUhS"
      }
    },
    {
      "cell_type": "markdown",
      "source": [
        "#**Naive Bayes**\n",
        "#Características\n",
        "\n",
        "\n",
        "* Em termos simples, um classificador Naive Bayes assume que a presença de uma característica particular em uma classe não está relacionada com a presença de qualquer outro recurso.\n",
        "\n",
        "* O modelo Naive Bayes é fácil de construir e particularmente útil para grandes volumes de dados. Além de simples, Naive Bayes é conhecido por ganhar de métodos de classificação altamente sofisticados.\n"
      ],
      "metadata": {
        "id": "a-Hu9k_asq37"
      }
    },
    {
      "cell_type": "markdown",
      "source": [
        "#Vantagens\n",
        "* É fácil e rápido para prever o conjunto de dados de teste\n",
        "* Tem um bom desempenho na previsão de classes múltiplas\n",
        "* Quando a suposição de independência prevalece precisa de menos dados de treinamento \n",
        "\n",
        "\n"
      ],
      "metadata": {
        "id": "54V819tFvhU_"
      }
    },
    {
      "cell_type": "markdown",
      "source": [
        "# Desvantagens\n",
        "* Se a variável não foi encontrada no conjunto de dados de treinamento, então o modelo irá atribuir uma probabilidade de 0 (zero). Para resolver isso, podemos usar a estimativa de Laplace.\n",
        "* Pode gerar más estimativas \n",
        "* Preditores independentes ocorrem pouco no mundo real"
      ],
      "metadata": {
        "id": "B3XLU48gwQhk"
      }
    },
    {
      "cell_type": "markdown",
      "source": [
        "#Referências utilizadas"
      ],
      "metadata": {
        "id": "8CPEqCdw9xEf"
      }
    },
    {
      "cell_type": "markdown",
      "source": [
        "* https://www.corporate.roche.pt/pt/produtos-e-servicos/areas-terapeuticas/doencas-cardiovasculares.html#:~:text=Doen%C3%A7a%20cardiovascular%20%C3%A9%20um%20termo,a%20hipertens%C3%A3o%20e%20a%20arteriosclerose.\n",
        "\n",
        "* https://www.tuasaude.com/doencas-cardiovasculares/\n",
        "\n",
        "* https://www.vooo.pro/insights/6-passos-faceis-para-aprender-o-algoritmo-naive-bayes-com-o-codigo-em-python/\n",
        "\n"
      ],
      "metadata": {
        "id": "_9prJp0S91IR"
      }
    }
  ]
}