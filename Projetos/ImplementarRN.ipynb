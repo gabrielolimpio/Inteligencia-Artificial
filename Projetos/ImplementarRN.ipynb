{
  "nbformat": 4,
  "nbformat_minor": 0,
  "metadata": {
    "colab": {
      "name": "ImplementarRN.ipynb",
      "provenance": [],
      "collapsed_sections": []
    },
    "kernelspec": {
      "name": "python3",
      "display_name": "Python 3"
    }
  },
  "cells": [
    {
      "cell_type": "markdown",
      "metadata": {
        "id": "mLKPZajBKe3L"
      },
      "source": [
        "**Instituto de Informática - UFG**\n",
        "\n",
        "Disciplina: Inteligência Artificial\n",
        "\n",
        "Prof. Cedric Luiz de Carvalho\n",
        "\n",
        "\n",
        "Grupo (Gabriel Olímpio Rocha Leão, Geovanny Magalhães Novais)\n",
        "\n",
        "---\n",
        "\n",
        "\n",
        "Analista de dados: Gabriel Olímpio Rocha Leão\n",
        "\n",
        "---\n",
        "\n",
        "Engenheiro(a) do conhecimento: Geovanny Magalhães Novais\n",
        "\n",
        "---\n"
      ]
    },
    {
      "cell_type": "markdown",
      "metadata": {
        "id": "o_bZhd8FMiSa"
      },
      "source": [
        "#Redes Neurais\n",
        "\n",
        "\n",
        "\n"
      ]
    },
    {
      "cell_type": "markdown",
      "metadata": {
        "id": "YTE0x5IrTiwN"
      },
      "source": [
        "Utilizando a base de dados [Patient Survival Prediction](https://www.kaggle.com/mitishaagarwal/patient?select=dataset.csv), para verificar estados de pacientes com risco de morte, após processamento prévio feito na etapa de análise de dados, obtivemos um novo dataset que será explorado agora: \n"
      ]
    },
    {
      "cell_type": "markdown",
      "metadata": {
        "id": "WEpLciSUSVlR"
      },
      "source": [
        "* Montando o drive para acessar a database \n"
      ]
    },
    {
      "cell_type": "code",
      "source": [
        "from google.colab import drive\n",
        "drive.mount('/content/drive')\n"
      ],
      "metadata": {
        "colab": {
          "base_uri": "https://localhost:8080/"
        },
        "id": "uD-_7WIYa5_S",
        "outputId": "b8174676-31b9-4a1b-b66b-bf3ce5ed2f2c"
      },
      "execution_count": null,
      "outputs": [
        {
          "output_type": "stream",
          "name": "stdout",
          "text": [
            "Mounted at /content/drive\n"
          ]
        }
      ]
    },
    {
      "cell_type": "markdown",
      "source": [
        "* Criando o dataframe"
      ],
      "metadata": {
        "id": "RM67X1w3bFEy"
      }
    },
    {
      "cell_type": "code",
      "source": [
        "import pandas as pd\n",
        "dados = pd.read_csv('/content/drive/MyDrive/ColabNotebooks/Trabalho3/databaseDadosValidos.csv')"
      ],
      "metadata": {
        "id": "Dg3Oh4qDbKvE"
      },
      "execution_count": null,
      "outputs": []
    },
    {
      "cell_type": "markdown",
      "source": [
        "* Exibindo valores de exemplo"
      ],
      "metadata": {
        "id": "RJb-PZHlbuQ1"
      }
    },
    {
      "cell_type": "code",
      "source": [
        "dados.head()"
      ],
      "metadata": {
        "colab": {
          "base_uri": "https://localhost:8080/",
          "height": 386
        },
        "id": "b8fONurHbvxB",
        "outputId": "520f54de-1c85-48e8-c08e-fc30bf75bf34"
      },
      "execution_count": null,
      "outputs": [
        {
          "output_type": "execute_result",
          "data": {
            "text/html": [
              "\n",
              "  <div id=\"df-4c7eb1cc-ab83-4fac-a3c9-1236abcc3148\">\n",
              "    <div class=\"colab-df-container\">\n",
              "      <div>\n",
              "<style scoped>\n",
              "    .dataframe tbody tr th:only-of-type {\n",
              "        vertical-align: middle;\n",
              "    }\n",
              "\n",
              "    .dataframe tbody tr th {\n",
              "        vertical-align: top;\n",
              "    }\n",
              "\n",
              "    .dataframe thead th {\n",
              "        text-align: right;\n",
              "    }\n",
              "</style>\n",
              "<table border=\"1\" class=\"dataframe\">\n",
              "  <thead>\n",
              "    <tr style=\"text-align: right;\">\n",
              "      <th></th>\n",
              "      <th>Unnamed: 0</th>\n",
              "      <th>age</th>\n",
              "      <th>bmi</th>\n",
              "      <th>elective_surgery</th>\n",
              "      <th>ethnicity</th>\n",
              "      <th>gender</th>\n",
              "      <th>height</th>\n",
              "      <th>icu_admit_source</th>\n",
              "      <th>icu_stay_type</th>\n",
              "      <th>icu_type</th>\n",
              "      <th>...</th>\n",
              "      <th>cirrhosis</th>\n",
              "      <th>diabetes_mellitus</th>\n",
              "      <th>hepatic_failure</th>\n",
              "      <th>immunosuppression</th>\n",
              "      <th>leukemia</th>\n",
              "      <th>lymphoma</th>\n",
              "      <th>solid_tumor_with_metastasis</th>\n",
              "      <th>apache_3j_bodysystem</th>\n",
              "      <th>apache_2_bodysystem</th>\n",
              "      <th>hospital_death</th>\n",
              "    </tr>\n",
              "  </thead>\n",
              "  <tbody>\n",
              "    <tr>\n",
              "      <th>0</th>\n",
              "      <td>0</td>\n",
              "      <td>68.0</td>\n",
              "      <td>22.730000</td>\n",
              "      <td>0</td>\n",
              "      <td>Caucasian</td>\n",
              "      <td>M</td>\n",
              "      <td>180.3</td>\n",
              "      <td>Floor</td>\n",
              "      <td>admit</td>\n",
              "      <td>CTICU</td>\n",
              "      <td>...</td>\n",
              "      <td>0.0</td>\n",
              "      <td>1.0</td>\n",
              "      <td>0.0</td>\n",
              "      <td>0.0</td>\n",
              "      <td>0.0</td>\n",
              "      <td>0.0</td>\n",
              "      <td>0.0</td>\n",
              "      <td>Sepsis</td>\n",
              "      <td>Cardiovascular</td>\n",
              "      <td>0</td>\n",
              "    </tr>\n",
              "    <tr>\n",
              "      <th>1</th>\n",
              "      <td>1</td>\n",
              "      <td>77.0</td>\n",
              "      <td>27.420000</td>\n",
              "      <td>0</td>\n",
              "      <td>Caucasian</td>\n",
              "      <td>F</td>\n",
              "      <td>160.0</td>\n",
              "      <td>Floor</td>\n",
              "      <td>admit</td>\n",
              "      <td>Med-Surg ICU</td>\n",
              "      <td>...</td>\n",
              "      <td>0.0</td>\n",
              "      <td>1.0</td>\n",
              "      <td>0.0</td>\n",
              "      <td>0.0</td>\n",
              "      <td>0.0</td>\n",
              "      <td>0.0</td>\n",
              "      <td>0.0</td>\n",
              "      <td>Respiratory</td>\n",
              "      <td>Respiratory</td>\n",
              "      <td>0</td>\n",
              "    </tr>\n",
              "    <tr>\n",
              "      <th>2</th>\n",
              "      <td>5</td>\n",
              "      <td>67.0</td>\n",
              "      <td>27.560000</td>\n",
              "      <td>0</td>\n",
              "      <td>Caucasian</td>\n",
              "      <td>M</td>\n",
              "      <td>190.5</td>\n",
              "      <td>Accident &amp; Emergency</td>\n",
              "      <td>admit</td>\n",
              "      <td>Med-Surg ICU</td>\n",
              "      <td>...</td>\n",
              "      <td>0.0</td>\n",
              "      <td>1.0</td>\n",
              "      <td>0.0</td>\n",
              "      <td>0.0</td>\n",
              "      <td>0.0</td>\n",
              "      <td>0.0</td>\n",
              "      <td>0.0</td>\n",
              "      <td>Neurological</td>\n",
              "      <td>Neurologic</td>\n",
              "      <td>0</td>\n",
              "    </tr>\n",
              "    <tr>\n",
              "      <th>3</th>\n",
              "      <td>10</td>\n",
              "      <td>72.0</td>\n",
              "      <td>28.257052</td>\n",
              "      <td>1</td>\n",
              "      <td>Hispanic</td>\n",
              "      <td>F</td>\n",
              "      <td>154.9</td>\n",
              "      <td>Operating Room / Recovery</td>\n",
              "      <td>admit</td>\n",
              "      <td>Med-Surg ICU</td>\n",
              "      <td>...</td>\n",
              "      <td>0.0</td>\n",
              "      <td>0.0</td>\n",
              "      <td>0.0</td>\n",
              "      <td>1.0</td>\n",
              "      <td>0.0</td>\n",
              "      <td>0.0</td>\n",
              "      <td>0.0</td>\n",
              "      <td>Respiratory</td>\n",
              "      <td>Respiratory</td>\n",
              "      <td>0</td>\n",
              "    </tr>\n",
              "    <tr>\n",
              "      <th>4</th>\n",
              "      <td>17</td>\n",
              "      <td>46.0</td>\n",
              "      <td>25.845717</td>\n",
              "      <td>0</td>\n",
              "      <td>Hispanic</td>\n",
              "      <td>M</td>\n",
              "      <td>167.6</td>\n",
              "      <td>Accident &amp; Emergency</td>\n",
              "      <td>admit</td>\n",
              "      <td>CTICU</td>\n",
              "      <td>...</td>\n",
              "      <td>0.0</td>\n",
              "      <td>0.0</td>\n",
              "      <td>0.0</td>\n",
              "      <td>0.0</td>\n",
              "      <td>0.0</td>\n",
              "      <td>0.0</td>\n",
              "      <td>0.0</td>\n",
              "      <td>Respiratory</td>\n",
              "      <td>Respiratory</td>\n",
              "      <td>0</td>\n",
              "    </tr>\n",
              "  </tbody>\n",
              "</table>\n",
              "<p>5 rows × 81 columns</p>\n",
              "</div>\n",
              "      <button class=\"colab-df-convert\" onclick=\"convertToInteractive('df-4c7eb1cc-ab83-4fac-a3c9-1236abcc3148')\"\n",
              "              title=\"Convert this dataframe to an interactive table.\"\n",
              "              style=\"display:none;\">\n",
              "        \n",
              "  <svg xmlns=\"http://www.w3.org/2000/svg\" height=\"24px\"viewBox=\"0 0 24 24\"\n",
              "       width=\"24px\">\n",
              "    <path d=\"M0 0h24v24H0V0z\" fill=\"none\"/>\n",
              "    <path d=\"M18.56 5.44l.94 2.06.94-2.06 2.06-.94-2.06-.94-.94-2.06-.94 2.06-2.06.94zm-11 1L8.5 8.5l.94-2.06 2.06-.94-2.06-.94L8.5 2.5l-.94 2.06-2.06.94zm10 10l.94 2.06.94-2.06 2.06-.94-2.06-.94-.94-2.06-.94 2.06-2.06.94z\"/><path d=\"M17.41 7.96l-1.37-1.37c-.4-.4-.92-.59-1.43-.59-.52 0-1.04.2-1.43.59L10.3 9.45l-7.72 7.72c-.78.78-.78 2.05 0 2.83L4 21.41c.39.39.9.59 1.41.59.51 0 1.02-.2 1.41-.59l7.78-7.78 2.81-2.81c.8-.78.8-2.07 0-2.86zM5.41 20L4 18.59l7.72-7.72 1.47 1.35L5.41 20z\"/>\n",
              "  </svg>\n",
              "      </button>\n",
              "      \n",
              "  <style>\n",
              "    .colab-df-container {\n",
              "      display:flex;\n",
              "      flex-wrap:wrap;\n",
              "      gap: 12px;\n",
              "    }\n",
              "\n",
              "    .colab-df-convert {\n",
              "      background-color: #E8F0FE;\n",
              "      border: none;\n",
              "      border-radius: 50%;\n",
              "      cursor: pointer;\n",
              "      display: none;\n",
              "      fill: #1967D2;\n",
              "      height: 32px;\n",
              "      padding: 0 0 0 0;\n",
              "      width: 32px;\n",
              "    }\n",
              "\n",
              "    .colab-df-convert:hover {\n",
              "      background-color: #E2EBFA;\n",
              "      box-shadow: 0px 1px 2px rgba(60, 64, 67, 0.3), 0px 1px 3px 1px rgba(60, 64, 67, 0.15);\n",
              "      fill: #174EA6;\n",
              "    }\n",
              "\n",
              "    [theme=dark] .colab-df-convert {\n",
              "      background-color: #3B4455;\n",
              "      fill: #D2E3FC;\n",
              "    }\n",
              "\n",
              "    [theme=dark] .colab-df-convert:hover {\n",
              "      background-color: #434B5C;\n",
              "      box-shadow: 0px 1px 3px 1px rgba(0, 0, 0, 0.15);\n",
              "      filter: drop-shadow(0px 1px 2px rgba(0, 0, 0, 0.3));\n",
              "      fill: #FFFFFF;\n",
              "    }\n",
              "  </style>\n",
              "\n",
              "      <script>\n",
              "        const buttonEl =\n",
              "          document.querySelector('#df-4c7eb1cc-ab83-4fac-a3c9-1236abcc3148 button.colab-df-convert');\n",
              "        buttonEl.style.display =\n",
              "          google.colab.kernel.accessAllowed ? 'block' : 'none';\n",
              "\n",
              "        async function convertToInteractive(key) {\n",
              "          const element = document.querySelector('#df-4c7eb1cc-ab83-4fac-a3c9-1236abcc3148');\n",
              "          const dataTable =\n",
              "            await google.colab.kernel.invokeFunction('convertToInteractive',\n",
              "                                                     [key], {});\n",
              "          if (!dataTable) return;\n",
              "\n",
              "          const docLinkHtml = 'Like what you see? Visit the ' +\n",
              "            '<a target=\"_blank\" href=https://colab.research.google.com/notebooks/data_table.ipynb>data table notebook</a>'\n",
              "            + ' to learn more about interactive tables.';\n",
              "          element.innerHTML = '';\n",
              "          dataTable['output_type'] = 'display_data';\n",
              "          await google.colab.output.renderOutput(dataTable, element);\n",
              "          const docLink = document.createElement('div');\n",
              "          docLink.innerHTML = docLinkHtml;\n",
              "          element.appendChild(docLink);\n",
              "        }\n",
              "      </script>\n",
              "    </div>\n",
              "  </div>\n",
              "  "
            ],
            "text/plain": [
              "   Unnamed: 0   age        bmi  elective_surgery  ethnicity gender  height  \\\n",
              "0           0  68.0  22.730000                 0  Caucasian      M   180.3   \n",
              "1           1  77.0  27.420000                 0  Caucasian      F   160.0   \n",
              "2           5  67.0  27.560000                 0  Caucasian      M   190.5   \n",
              "3          10  72.0  28.257052                 1   Hispanic      F   154.9   \n",
              "4          17  46.0  25.845717                 0   Hispanic      M   167.6   \n",
              "\n",
              "            icu_admit_source icu_stay_type      icu_type  ...  cirrhosis  \\\n",
              "0                      Floor         admit         CTICU  ...        0.0   \n",
              "1                      Floor         admit  Med-Surg ICU  ...        0.0   \n",
              "2       Accident & Emergency         admit  Med-Surg ICU  ...        0.0   \n",
              "3  Operating Room / Recovery         admit  Med-Surg ICU  ...        0.0   \n",
              "4       Accident & Emergency         admit         CTICU  ...        0.0   \n",
              "\n",
              "   diabetes_mellitus  hepatic_failure  immunosuppression  leukemia  lymphoma  \\\n",
              "0                1.0              0.0                0.0       0.0       0.0   \n",
              "1                1.0              0.0                0.0       0.0       0.0   \n",
              "2                1.0              0.0                0.0       0.0       0.0   \n",
              "3                0.0              0.0                1.0       0.0       0.0   \n",
              "4                0.0              0.0                0.0       0.0       0.0   \n",
              "\n",
              "   solid_tumor_with_metastasis  apache_3j_bodysystem  apache_2_bodysystem  \\\n",
              "0                          0.0                Sepsis       Cardiovascular   \n",
              "1                          0.0           Respiratory          Respiratory   \n",
              "2                          0.0          Neurological           Neurologic   \n",
              "3                          0.0           Respiratory          Respiratory   \n",
              "4                          0.0           Respiratory          Respiratory   \n",
              "\n",
              "   hospital_death  \n",
              "0               0  \n",
              "1               0  \n",
              "2               0  \n",
              "3               0  \n",
              "4               0  \n",
              "\n",
              "[5 rows x 81 columns]"
            ]
          },
          "metadata": {},
          "execution_count": 3
        }
      ]
    },
    {
      "cell_type": "markdown",
      "source": [
        "* Criando um dataframe somente com colunas numéricas.\n",
        "\n",
        "Visto a dificuldade em converter cada uma das colunas em colunas numéricas, independentes entre si, para que possam ser usadas pela Rede Neural."
      ],
      "metadata": {
        "id": "jpZDs8sUdeet"
      }
    },
    {
      "cell_type": "code",
      "source": [
        "dados.drop('ethnicity', axis=1, inplace=True)\n",
        "dados.drop('gender', axis=1, inplace=True)\n",
        "dados.drop('icu_admit_source', axis=1, inplace=True)\n",
        "dados.drop('icu_stay_type', axis=1, inplace=True)\n",
        "dados.drop('icu_type', axis=1, inplace=True)\n",
        "dados.drop('apache_3j_bodysystem', axis=1, inplace=True)\n",
        "dados.drop('apache_2_bodysystem', axis=1, inplace=True)"
      ],
      "metadata": {
        "id": "jhliJJuPdnEm"
      },
      "execution_count": null,
      "outputs": []
    },
    {
      "cell_type": "code",
      "source": [
        "dados.head()"
      ],
      "metadata": {
        "colab": {
          "base_uri": "https://localhost:8080/",
          "height": 317
        },
        "id": "iNTzztbTkhQ_",
        "outputId": "d8843a2f-c55d-41ec-e62b-a499a837f712"
      },
      "execution_count": null,
      "outputs": [
        {
          "output_type": "execute_result",
          "data": {
            "text/html": [
              "\n",
              "  <div id=\"df-b9f1ed15-c994-4cf1-9661-447e65692552\">\n",
              "    <div class=\"colab-df-container\">\n",
              "      <div>\n",
              "<style scoped>\n",
              "    .dataframe tbody tr th:only-of-type {\n",
              "        vertical-align: middle;\n",
              "    }\n",
              "\n",
              "    .dataframe tbody tr th {\n",
              "        vertical-align: top;\n",
              "    }\n",
              "\n",
              "    .dataframe thead th {\n",
              "        text-align: right;\n",
              "    }\n",
              "</style>\n",
              "<table border=\"1\" class=\"dataframe\">\n",
              "  <thead>\n",
              "    <tr style=\"text-align: right;\">\n",
              "      <th></th>\n",
              "      <th>Unnamed: 0</th>\n",
              "      <th>age</th>\n",
              "      <th>bmi</th>\n",
              "      <th>elective_surgery</th>\n",
              "      <th>height</th>\n",
              "      <th>pre_icu_los_days</th>\n",
              "      <th>weight</th>\n",
              "      <th>apache_2_diagnosis</th>\n",
              "      <th>apache_3j_diagnosis</th>\n",
              "      <th>apache_post_operative</th>\n",
              "      <th>...</th>\n",
              "      <th>apache_4a_icu_death_prob</th>\n",
              "      <th>aids</th>\n",
              "      <th>cirrhosis</th>\n",
              "      <th>diabetes_mellitus</th>\n",
              "      <th>hepatic_failure</th>\n",
              "      <th>immunosuppression</th>\n",
              "      <th>leukemia</th>\n",
              "      <th>lymphoma</th>\n",
              "      <th>solid_tumor_with_metastasis</th>\n",
              "      <th>hospital_death</th>\n",
              "    </tr>\n",
              "  </thead>\n",
              "  <tbody>\n",
              "    <tr>\n",
              "      <th>0</th>\n",
              "      <td>0</td>\n",
              "      <td>68.0</td>\n",
              "      <td>22.730000</td>\n",
              "      <td>0</td>\n",
              "      <td>180.3</td>\n",
              "      <td>0.541667</td>\n",
              "      <td>73.9</td>\n",
              "      <td>113.0</td>\n",
              "      <td>502.01</td>\n",
              "      <td>0</td>\n",
              "      <td>...</td>\n",
              "      <td>0.05</td>\n",
              "      <td>0.0</td>\n",
              "      <td>0.0</td>\n",
              "      <td>1.0</td>\n",
              "      <td>0.0</td>\n",
              "      <td>0.0</td>\n",
              "      <td>0.0</td>\n",
              "      <td>0.0</td>\n",
              "      <td>0.0</td>\n",
              "      <td>0</td>\n",
              "    </tr>\n",
              "    <tr>\n",
              "      <th>1</th>\n",
              "      <td>1</td>\n",
              "      <td>77.0</td>\n",
              "      <td>27.420000</td>\n",
              "      <td>0</td>\n",
              "      <td>160.0</td>\n",
              "      <td>0.927778</td>\n",
              "      <td>70.2</td>\n",
              "      <td>108.0</td>\n",
              "      <td>203.01</td>\n",
              "      <td>0</td>\n",
              "      <td>...</td>\n",
              "      <td>0.29</td>\n",
              "      <td>0.0</td>\n",
              "      <td>0.0</td>\n",
              "      <td>1.0</td>\n",
              "      <td>0.0</td>\n",
              "      <td>0.0</td>\n",
              "      <td>0.0</td>\n",
              "      <td>0.0</td>\n",
              "      <td>0.0</td>\n",
              "      <td>0</td>\n",
              "    </tr>\n",
              "    <tr>\n",
              "      <th>2</th>\n",
              "      <td>5</td>\n",
              "      <td>67.0</td>\n",
              "      <td>27.560000</td>\n",
              "      <td>0</td>\n",
              "      <td>190.5</td>\n",
              "      <td>0.000694</td>\n",
              "      <td>100.0</td>\n",
              "      <td>301.0</td>\n",
              "      <td>403.01</td>\n",
              "      <td>0</td>\n",
              "      <td>...</td>\n",
              "      <td>0.02</td>\n",
              "      <td>0.0</td>\n",
              "      <td>0.0</td>\n",
              "      <td>1.0</td>\n",
              "      <td>0.0</td>\n",
              "      <td>0.0</td>\n",
              "      <td>0.0</td>\n",
              "      <td>0.0</td>\n",
              "      <td>0.0</td>\n",
              "      <td>0</td>\n",
              "    </tr>\n",
              "    <tr>\n",
              "      <th>3</th>\n",
              "      <td>10</td>\n",
              "      <td>72.0</td>\n",
              "      <td>28.257052</td>\n",
              "      <td>1</td>\n",
              "      <td>154.9</td>\n",
              "      <td>0.004861</td>\n",
              "      <td>67.8</td>\n",
              "      <td>303.0</td>\n",
              "      <td>1304.08</td>\n",
              "      <td>1</td>\n",
              "      <td>...</td>\n",
              "      <td>0.00</td>\n",
              "      <td>0.0</td>\n",
              "      <td>0.0</td>\n",
              "      <td>0.0</td>\n",
              "      <td>0.0</td>\n",
              "      <td>1.0</td>\n",
              "      <td>0.0</td>\n",
              "      <td>0.0</td>\n",
              "      <td>0.0</td>\n",
              "      <td>0</td>\n",
              "    </tr>\n",
              "    <tr>\n",
              "      <th>4</th>\n",
              "      <td>17</td>\n",
              "      <td>46.0</td>\n",
              "      <td>25.845717</td>\n",
              "      <td>0</td>\n",
              "      <td>167.6</td>\n",
              "      <td>0.000000</td>\n",
              "      <td>72.6</td>\n",
              "      <td>108.0</td>\n",
              "      <td>203.01</td>\n",
              "      <td>0</td>\n",
              "      <td>...</td>\n",
              "      <td>0.06</td>\n",
              "      <td>0.0</td>\n",
              "      <td>0.0</td>\n",
              "      <td>0.0</td>\n",
              "      <td>0.0</td>\n",
              "      <td>0.0</td>\n",
              "      <td>0.0</td>\n",
              "      <td>0.0</td>\n",
              "      <td>0.0</td>\n",
              "      <td>0</td>\n",
              "    </tr>\n",
              "  </tbody>\n",
              "</table>\n",
              "<p>5 rows × 74 columns</p>\n",
              "</div>\n",
              "      <button class=\"colab-df-convert\" onclick=\"convertToInteractive('df-b9f1ed15-c994-4cf1-9661-447e65692552')\"\n",
              "              title=\"Convert this dataframe to an interactive table.\"\n",
              "              style=\"display:none;\">\n",
              "        \n",
              "  <svg xmlns=\"http://www.w3.org/2000/svg\" height=\"24px\"viewBox=\"0 0 24 24\"\n",
              "       width=\"24px\">\n",
              "    <path d=\"M0 0h24v24H0V0z\" fill=\"none\"/>\n",
              "    <path d=\"M18.56 5.44l.94 2.06.94-2.06 2.06-.94-2.06-.94-.94-2.06-.94 2.06-2.06.94zm-11 1L8.5 8.5l.94-2.06 2.06-.94-2.06-.94L8.5 2.5l-.94 2.06-2.06.94zm10 10l.94 2.06.94-2.06 2.06-.94-2.06-.94-.94-2.06-.94 2.06-2.06.94z\"/><path d=\"M17.41 7.96l-1.37-1.37c-.4-.4-.92-.59-1.43-.59-.52 0-1.04.2-1.43.59L10.3 9.45l-7.72 7.72c-.78.78-.78 2.05 0 2.83L4 21.41c.39.39.9.59 1.41.59.51 0 1.02-.2 1.41-.59l7.78-7.78 2.81-2.81c.8-.78.8-2.07 0-2.86zM5.41 20L4 18.59l7.72-7.72 1.47 1.35L5.41 20z\"/>\n",
              "  </svg>\n",
              "      </button>\n",
              "      \n",
              "  <style>\n",
              "    .colab-df-container {\n",
              "      display:flex;\n",
              "      flex-wrap:wrap;\n",
              "      gap: 12px;\n",
              "    }\n",
              "\n",
              "    .colab-df-convert {\n",
              "      background-color: #E8F0FE;\n",
              "      border: none;\n",
              "      border-radius: 50%;\n",
              "      cursor: pointer;\n",
              "      display: none;\n",
              "      fill: #1967D2;\n",
              "      height: 32px;\n",
              "      padding: 0 0 0 0;\n",
              "      width: 32px;\n",
              "    }\n",
              "\n",
              "    .colab-df-convert:hover {\n",
              "      background-color: #E2EBFA;\n",
              "      box-shadow: 0px 1px 2px rgba(60, 64, 67, 0.3), 0px 1px 3px 1px rgba(60, 64, 67, 0.15);\n",
              "      fill: #174EA6;\n",
              "    }\n",
              "\n",
              "    [theme=dark] .colab-df-convert {\n",
              "      background-color: #3B4455;\n",
              "      fill: #D2E3FC;\n",
              "    }\n",
              "\n",
              "    [theme=dark] .colab-df-convert:hover {\n",
              "      background-color: #434B5C;\n",
              "      box-shadow: 0px 1px 3px 1px rgba(0, 0, 0, 0.15);\n",
              "      filter: drop-shadow(0px 1px 2px rgba(0, 0, 0, 0.3));\n",
              "      fill: #FFFFFF;\n",
              "    }\n",
              "  </style>\n",
              "\n",
              "      <script>\n",
              "        const buttonEl =\n",
              "          document.querySelector('#df-b9f1ed15-c994-4cf1-9661-447e65692552 button.colab-df-convert');\n",
              "        buttonEl.style.display =\n",
              "          google.colab.kernel.accessAllowed ? 'block' : 'none';\n",
              "\n",
              "        async function convertToInteractive(key) {\n",
              "          const element = document.querySelector('#df-b9f1ed15-c994-4cf1-9661-447e65692552');\n",
              "          const dataTable =\n",
              "            await google.colab.kernel.invokeFunction('convertToInteractive',\n",
              "                                                     [key], {});\n",
              "          if (!dataTable) return;\n",
              "\n",
              "          const docLinkHtml = 'Like what you see? Visit the ' +\n",
              "            '<a target=\"_blank\" href=https://colab.research.google.com/notebooks/data_table.ipynb>data table notebook</a>'\n",
              "            + ' to learn more about interactive tables.';\n",
              "          element.innerHTML = '';\n",
              "          dataTable['output_type'] = 'display_data';\n",
              "          await google.colab.output.renderOutput(dataTable, element);\n",
              "          const docLink = document.createElement('div');\n",
              "          docLink.innerHTML = docLinkHtml;\n",
              "          element.appendChild(docLink);\n",
              "        }\n",
              "      </script>\n",
              "    </div>\n",
              "  </div>\n",
              "  "
            ],
            "text/plain": [
              "   Unnamed: 0   age        bmi  elective_surgery  height  pre_icu_los_days  \\\n",
              "0           0  68.0  22.730000                 0   180.3          0.541667   \n",
              "1           1  77.0  27.420000                 0   160.0          0.927778   \n",
              "2           5  67.0  27.560000                 0   190.5          0.000694   \n",
              "3          10  72.0  28.257052                 1   154.9          0.004861   \n",
              "4          17  46.0  25.845717                 0   167.6          0.000000   \n",
              "\n",
              "   weight  apache_2_diagnosis  apache_3j_diagnosis  apache_post_operative  \\\n",
              "0    73.9               113.0               502.01                      0   \n",
              "1    70.2               108.0               203.01                      0   \n",
              "2   100.0               301.0               403.01                      0   \n",
              "3    67.8               303.0              1304.08                      1   \n",
              "4    72.6               108.0               203.01                      0   \n",
              "\n",
              "   ...  apache_4a_icu_death_prob  aids  cirrhosis  diabetes_mellitus  \\\n",
              "0  ...                      0.05   0.0        0.0                1.0   \n",
              "1  ...                      0.29   0.0        0.0                1.0   \n",
              "2  ...                      0.02   0.0        0.0                1.0   \n",
              "3  ...                      0.00   0.0        0.0                0.0   \n",
              "4  ...                      0.06   0.0        0.0                0.0   \n",
              "\n",
              "   hepatic_failure  immunosuppression  leukemia  lymphoma  \\\n",
              "0              0.0                0.0       0.0       0.0   \n",
              "1              0.0                0.0       0.0       0.0   \n",
              "2              0.0                0.0       0.0       0.0   \n",
              "3              0.0                1.0       0.0       0.0   \n",
              "4              0.0                0.0       0.0       0.0   \n",
              "\n",
              "   solid_tumor_with_metastasis  hospital_death  \n",
              "0                          0.0               0  \n",
              "1                          0.0               0  \n",
              "2                          0.0               0  \n",
              "3                          0.0               0  \n",
              "4                          0.0               0  \n",
              "\n",
              "[5 rows x 74 columns]"
            ]
          },
          "metadata": {},
          "execution_count": 5
        }
      ]
    },
    {
      "cell_type": "markdown",
      "source": [
        "* Definindo variáveis dependentes e independentes"
      ],
      "metadata": {
        "id": "nrLghLVhneLR"
      }
    },
    {
      "cell_type": "code",
      "source": [
        "x = dados.iloc[:,1:74] \n",
        "y = dados.iloc[:,:74]"
      ],
      "metadata": {
        "id": "tYJzopDvnJMe"
      },
      "execution_count": null,
      "outputs": []
    },
    {
      "cell_type": "markdown",
      "source": [
        "* Garantindo que o sistema só lidará com dados inteiros, com a biblioteca numpy\n",
        "* Mostrando que tamanho dos dados é o mesmo que o de x"
      ],
      "metadata": {
        "id": "e2kF537Bn_Xb"
      }
    },
    {
      "cell_type": "code",
      "source": [
        "import numpy as np\n",
        "x = np.asarray(x).astype('float32')\n",
        "y = np.asarray(y).astype('float32')\n",
        "len(dados) - len(x)"
      ],
      "metadata": {
        "colab": {
          "base_uri": "https://localhost:8080/"
        },
        "id": "PaDkeVuHn2H8",
        "outputId": "d9edfa93-f785-4cb4-d4df-1ec6eece1466"
      },
      "execution_count": null,
      "outputs": [
        {
          "output_type": "execute_result",
          "data": {
            "text/plain": [
              "0"
            ]
          },
          "metadata": {},
          "execution_count": 8
        }
      ]
    },
    {
      "cell_type": "markdown",
      "source": [
        "* Importando o modelo de treino sklearn\n",
        "* Treinando a RNA com proporção de treino 80% e 20% de teste\n",
        "* Criando números aleatórios com RandomState para aumentar a aleatoriedade dos treinos"
      ],
      "metadata": {
        "id": "nDtQsH5dqwtx"
      }
    },
    {
      "cell_type": "code",
      "source": [
        "from sklearn.model_selection import train_test_split\n",
        "rng = np.random.RandomState(0)\n",
        "xDeTreino, xDeTeste, yDeTreino, yDeTeste = train_test_split(x, y, test_size = 0.2, random_state = rng)"
      ],
      "metadata": {
        "id": "NGoDac4SpX19"
      },
      "execution_count": null,
      "outputs": []
    },
    {
      "cell_type": "markdown",
      "source": [
        "* Importando a biblioteca keras, além de seus modelos sequenciais e de suas camadas densas"
      ],
      "metadata": {
        "id": "FFmM9LSErUAR"
      }
    },
    {
      "cell_type": "code",
      "source": [
        "import keras\n",
        "from keras.models import Sequential\n",
        "from keras.layers import Dense"
      ],
      "metadata": {
        "id": "ep8yzpitqkfg"
      },
      "execution_count": null,
      "outputs": []
    },
    {
      "cell_type": "markdown",
      "source": [
        "### Decidimos no projeto nos ater ao modelo de ativação relu"
      ],
      "metadata": {
        "id": "SmhapL-AeNBA"
      }
    },
    {
      "cell_type": "markdown",
      "source": [
        "* Adicionando uma RNA de três camadas com iniciação uniforme\n",
        "* As camadas 1 e 2 tem 10 neurônios, enquanto a 3 possui somente um"
      ],
      "metadata": {
        "id": "u2jTf33er1_p"
      }
    },
    {
      "cell_type": "code",
      "source": [
        "classifier = Sequential()\n",
        "\n",
        "classifier.add(Dense(units = 10, kernel_initializer='uniform', activation = 'relu', input_dim = 73))\n",
        "\n",
        "classifier.add(Dense(units = 10, kernel_initializer='uniform', activation = 'relu'))\n",
        "\n",
        "classifier.add(Dense(units = 1, kernel_initializer='uniform', activation='relu'))\n",
        "\n",
        "classifier.compile(optimizer = 'adam', loss='binary_crossentropy', metrics=['accuracy'])\n",
        "\n",
        "classifier.fit(xDeTreino, yDeTreino, batch_size =10, epochs = 5)"
      ],
      "metadata": {
        "colab": {
          "base_uri": "https://localhost:8080/"
        },
        "id": "_BGU5PANvkf1",
        "outputId": "2756e6aa-f4e5-47cc-871a-8b8e49149f6d"
      },
      "execution_count": null,
      "outputs": [
        {
          "output_type": "stream",
          "name": "stdout",
          "text": [
            "Epoch 1/5\n",
            "4495/4495 [==============================] - 9s 2ms/step - loss: -10762.1523 - accuracy: 0.0222\n",
            "Epoch 2/5\n",
            "4495/4495 [==============================] - 8s 2ms/step - loss: -10800.2021 - accuracy: 0.0219\n",
            "Epoch 3/5\n",
            "4495/4495 [==============================] - 8s 2ms/step - loss: -10800.2021 - accuracy: 0.0219\n",
            "Epoch 4/5\n",
            "4495/4495 [==============================] - 8s 2ms/step - loss: -10800.1943 - accuracy: 0.0219\n",
            "Epoch 5/5\n",
            "4495/4495 [==============================] - 8s 2ms/step - loss: -10800.1973 - accuracy: 0.0219\n"
          ]
        },
        {
          "output_type": "execute_result",
          "data": {
            "text/plain": [
              "<keras.callbacks.History at 0x7fec8b557c90>"
            ]
          },
          "metadata": {},
          "execution_count": 54
        }
      ]
    },
    {
      "cell_type": "markdown",
      "source": [
        "* Como obtivemos um valor baixíssimo de previsão, tentamos modificar a rede, modificando um dos componentes da rede e e mantendo os demais componentes sem alteração "
      ],
      "metadata": {
        "id": "M7a_YI5y0n8_"
      }
    },
    {
      "cell_type": "markdown",
      "source": [
        "* Primeiro, tentamos aumentar o número de neurônios:"
      ],
      "metadata": {
        "id": "4vIY0fak8pFP"
      }
    },
    {
      "cell_type": "code",
      "source": [
        "classifier = Sequential()\n",
        "\n",
        "classifier.add(Dense(units = 100, kernel_initializer='uniform', activation = 'relu', input_dim = 73))\n",
        "\n",
        "classifier.add(Dense(units = 50, kernel_initializer='uniform', activation = 'relu'))\n",
        "\n",
        "classifier.add(Dense(units = 1, kernel_initializer='uniform', activation='relu'))\n",
        "\n",
        "classifier.compile(optimizer = 'adam', loss='binary_crossentropy', metrics=['accuracy'])\n",
        "\n",
        "classifier.fit(xDeTreino, yDeTreino, batch_size =10, epochs = 5)"
      ],
      "metadata": {
        "colab": {
          "base_uri": "https://localhost:8080/"
        },
        "id": "yqghU7onxF-f",
        "outputId": "b17849cc-25ff-47b0-99cf-7b14d6e81ef5"
      },
      "execution_count": null,
      "outputs": [
        {
          "output_type": "stream",
          "name": "stdout",
          "text": [
            "Epoch 1/5\n",
            "4495/4495 [==============================] - 10s 2ms/step - loss: -10793.7305 - accuracy: 0.0220\n",
            "Epoch 2/5\n",
            "4495/4495 [==============================] - 9s 2ms/step - loss: -10800.2012 - accuracy: 0.0219\n",
            "Epoch 3/5\n",
            "4495/4495 [==============================] - 9s 2ms/step - loss: -10800.1914 - accuracy: 0.0219\n",
            "Epoch 4/5\n",
            "4495/4495 [==============================] - 9s 2ms/step - loss: -10800.1934 - accuracy: 0.0219\n",
            "Epoch 5/5\n",
            "4495/4495 [==============================] - 9s 2ms/step - loss: -10800.1816 - accuracy: 0.0219\n"
          ]
        },
        {
          "output_type": "execute_result",
          "data": {
            "text/plain": [
              "<keras.callbacks.History at 0x7fec82c09590>"
            ]
          },
          "metadata": {},
          "execution_count": 55
        }
      ]
    },
    {
      "cell_type": "markdown",
      "source": [
        " Ao multiplicarmos por dez o número de neurônios na camada 1 e por cinco na camada 2, não obtivemos melhora"
      ],
      "metadata": {
        "id": "_tiLkBGK1cjq"
      }
    },
    {
      "cell_type": "markdown",
      "source": [
        "* Tentamos então, aumentar o número de epócas:"
      ],
      "metadata": {
        "id": "aK_dZlsA1l9u"
      }
    },
    {
      "cell_type": "code",
      "source": [
        "classifier = Sequential()\n",
        "\n",
        "classifier.add(Dense(units = 10, kernel_initializer='uniform', activation = 'relu', input_dim = 73))\n",
        "\n",
        "classifier.add(Dense(units = 10, kernel_initializer='uniform', activation = 'relu'))\n",
        "\n",
        "classifier.add(Dense(units = 1, kernel_initializer='uniform', activation='relu'))\n",
        "\n",
        "classifier.compile(optimizer = 'adam', loss='binary_crossentropy', metrics=['accuracy'])\n",
        "\n",
        "classifier.fit(xDeTreino, yDeTreino, batch_size =10, epochs = 10)"
      ],
      "metadata": {
        "colab": {
          "base_uri": "https://localhost:8080/"
        },
        "id": "9qnle92o1v__",
        "outputId": "444acabe-fab7-4289-a5a8-7de04c58a2ae"
      },
      "execution_count": null,
      "outputs": [
        {
          "output_type": "stream",
          "name": "stdout",
          "text": [
            "Epoch 1/10\n",
            "4495/4495 [==============================] - 9s 2ms/step - loss: -10772.1885 - accuracy: 0.0222\n",
            "Epoch 2/10\n",
            "4495/4495 [==============================] - 9s 2ms/step - loss: -10800.2041 - accuracy: 0.0219\n",
            "Epoch 3/10\n",
            "4495/4495 [==============================] - 8s 2ms/step - loss: -10800.1885 - accuracy: 0.0219\n",
            "Epoch 4/10\n",
            "4495/4495 [==============================] - 13s 3ms/step - loss: -10800.2041 - accuracy: 0.0219\n",
            "Epoch 5/10\n",
            "4495/4495 [==============================] - 12s 3ms/step - loss: -10800.1982 - accuracy: 0.0219\n",
            "Epoch 6/10\n",
            "4495/4495 [==============================] - 8s 2ms/step - loss: -10800.2002 - accuracy: 0.0219\n",
            "Epoch 7/10\n",
            "4495/4495 [==============================] - 8s 2ms/step - loss: -10800.2139 - accuracy: 0.0219\n",
            "Epoch 8/10\n",
            "4495/4495 [==============================] - 8s 2ms/step - loss: -10800.2119 - accuracy: 0.0219\n",
            "Epoch 9/10\n",
            "4495/4495 [==============================] - 9s 2ms/step - loss: -10800.2012 - accuracy: 0.0219\n",
            "Epoch 10/10\n",
            "4495/4495 [==============================] - 9s 2ms/step - loss: -10800.2070 - accuracy: 0.0219\n"
          ]
        },
        {
          "output_type": "execute_result",
          "data": {
            "text/plain": [
              "<keras.callbacks.History at 0x7fec82c5b790>"
            ]
          },
          "metadata": {},
          "execution_count": 56
        }
      ]
    },
    {
      "cell_type": "markdown",
      "source": [
        "Notamos que o problema se manteve"
      ],
      "metadata": {
        "id": "YBMroBZf13kb"
      }
    },
    {
      "cell_type": "markdown",
      "source": [
        "* Após o feito, tentamos então, mudar o parâmetro de inicialização do kernel:"
      ],
      "metadata": {
        "id": "UcOc8iX52Zbh"
      }
    },
    {
      "cell_type": "code",
      "source": [
        "classifier = Sequential()\n",
        "\n",
        "classifier.add(Dense(units = 10, kernel_initializer='normal', activation = 'relu', input_dim = 73))\n",
        "\n",
        "classifier.add(Dense(units = 10, kernel_initializer='normal', activation = 'relu'))\n",
        "\n",
        "classifier.add(Dense(units = 1, kernel_initializer='normal', activation='relu'))\n",
        "\n",
        "classifier.compile(optimizer = 'adam', loss='binary_crossentropy', metrics=['accuracy'])\n",
        "\n",
        "classifier.fit(xDeTreino, yDeTreino, batch_size =10, epochs = 5)"
      ],
      "metadata": {
        "colab": {
          "base_uri": "https://localhost:8080/"
        },
        "id": "W44zOBB6WVQj",
        "outputId": "fe76332d-6b52-4f00-ecc4-526bb7215ad2"
      },
      "execution_count": null,
      "outputs": [
        {
          "output_type": "stream",
          "name": "stdout",
          "text": [
            "Epoch 1/5\n",
            "4495/4495 [==============================] - 9s 2ms/step - loss: 10940.0742 - accuracy: 0.1886\n",
            "Epoch 2/5\n",
            "4495/4495 [==============================] - 9s 2ms/step - loss: 10940.0488 - accuracy: 0.1886\n",
            "Epoch 3/5\n",
            "4495/4495 [==============================] - 9s 2ms/step - loss: 10940.0664 - accuracy: 0.1886\n",
            "Epoch 4/5\n",
            "4495/4495 [==============================] - 9s 2ms/step - loss: 10940.0645 - accuracy: 0.1886\n",
            "Epoch 5/5\n",
            "4495/4495 [==============================] - 12s 3ms/step - loss: 10940.0615 - accuracy: 0.1886\n"
          ]
        },
        {
          "output_type": "execute_result",
          "data": {
            "text/plain": [
              "<keras.callbacks.History at 0x7fec99762650>"
            ]
          },
          "metadata": {},
          "execution_count": 38
        }
      ]
    },
    {
      "cell_type": "markdown",
      "source": [
        "Conseguimos então, uma melhora relevante na taxa de acertos e tentamos outras combinações"
      ],
      "metadata": {
        "id": "ddvIAI5S2r0t"
      }
    },
    {
      "cell_type": "markdown",
      "source": [
        "* Usando inicializador normal na camada 1 e inicializador uniform na camada 2 e 3:"
      ],
      "metadata": {
        "id": "swefz-T3W0Og"
      }
    },
    {
      "cell_type": "code",
      "source": [
        "classifier = Sequential()\n",
        "\n",
        "classifier.add(Dense(units = 10, kernel_initializer='normal', activation = 'relu', input_dim = 73))\n",
        "\n",
        "classifier.add(Dense(units = 10, kernel_initializer='uniform', activation = 'relu'))\n",
        "\n",
        "classifier.add(Dense(units = 1, kernel_initializer='uniform', activation='relu'))\n",
        "\n",
        "classifier.compile(optimizer = 'adam', loss='binary_crossentropy', metrics=['accuracy'])\n",
        "\n",
        "classifier.fit(xDeTreino, yDeTreino, batch_size =10, epochs = 5)"
      ],
      "metadata": {
        "colab": {
          "base_uri": "https://localhost:8080/"
        },
        "id": "VziFBxvj2kW8",
        "outputId": "032a5f50-fd79-40f3-df12-c88492dfb073"
      },
      "execution_count": null,
      "outputs": [
        {
          "output_type": "stream",
          "name": "stdout",
          "text": [
            "Epoch 1/5\n",
            "4495/4495 [==============================] - 10s 2ms/step - loss: 10940.0596 - accuracy: 0.1886\n",
            "Epoch 2/5\n",
            "4495/4495 [==============================] - 8s 2ms/step - loss: 10940.0869 - accuracy: 0.1886\n",
            "Epoch 3/5\n",
            "4495/4495 [==============================] - 8s 2ms/step - loss: 10940.0908 - accuracy: 0.1886\n",
            "Epoch 4/5\n",
            "4495/4495 [==============================] - 8s 2ms/step - loss: 10940.0791 - accuracy: 0.1886\n",
            "Epoch 5/5\n",
            "4495/4495 [==============================] - 8s 2ms/step - loss: 10940.0674 - accuracy: 0.1886\n"
          ]
        },
        {
          "output_type": "execute_result",
          "data": {
            "text/plain": [
              "<keras.callbacks.History at 0x7fec9ffe9690>"
            ]
          },
          "metadata": {},
          "execution_count": 48
        }
      ]
    },
    {
      "cell_type": "markdown",
      "source": [
        "Notamos que a acurácia se manteve, porém o tempo para chegar até ela diminiu"
      ],
      "metadata": {
        "id": "BRFXAy0Ke0M8"
      }
    },
    {
      "cell_type": "markdown",
      "source": [
        "* Tentamos por fim, criar mais uma camada densa com inicialização normal:"
      ],
      "metadata": {
        "id": "ct1Sl4g4bof6"
      }
    },
    {
      "cell_type": "code",
      "source": [
        "classifier = Sequential()\n",
        "\n",
        "classifier.add(Dense(units = 10, kernel_initializer= 'normal', activation = 'relu', input_dim = 73))\n",
        "\n",
        "classifier.add(Dense(units = 10, kernel_initializer='normal', activation = 'relu'))\n",
        "\n",
        "classifier.add(Dense(units = 10, kernel_initializer='normal', activation = 'relu'))\n",
        "\n",
        "classifier.add(Dense(units = 1, kernel_initializer='normal', activation='relu'))\n",
        "\n",
        "classifier.compile(optimizer = 'adam', loss='binary_crossentropy', metrics=['accuracy'])\n",
        "\n",
        "classifier.fit(xDeTreino, yDeTreino, batch_size =10, epochs = 5)"
      ],
      "metadata": {
        "colab": {
          "base_uri": "https://localhost:8080/"
        },
        "id": "pV9TQFjLYudc",
        "outputId": "54355b0e-fa3a-40c7-9004-40448a599325"
      },
      "execution_count": null,
      "outputs": [
        {
          "output_type": "stream",
          "name": "stdout",
          "text": [
            "Epoch 1/5\n",
            "4495/4495 [==============================] - 9s 2ms/step - loss: 10940.0801 - accuracy: 0.1886\n",
            "Epoch 2/5\n",
            "4495/4495 [==============================] - 9s 2ms/step - loss: 10940.0645 - accuracy: 0.1886\n",
            "Epoch 3/5\n",
            "4495/4495 [==============================] - 8s 2ms/step - loss: 10940.0762 - accuracy: 0.1886\n",
            "Epoch 4/5\n",
            "4495/4495 [==============================] - 8s 2ms/step - loss: 10940.0693 - accuracy: 0.1886\n",
            "Epoch 5/5\n",
            "4495/4495 [==============================] - 8s 2ms/step - loss: 10940.0771 - accuracy: 0.1886\n"
          ]
        },
        {
          "output_type": "execute_result",
          "data": {
            "text/plain": [
              "<keras.callbacks.History at 0x7fec82eb6d90>"
            ]
          },
          "metadata": {},
          "execution_count": 52
        }
      ]
    },
    {
      "cell_type": "markdown",
      "source": [
        "A acurácia se manteve igual as anteriores, mesmo com o investimento de processamento a mais"
      ],
      "metadata": {
        "id": "LJCfwKzgb0_2"
      }
    },
    {
      "cell_type": "markdown",
      "source": [
        "# Conclusão\n",
        "\n",
        "* A melhor solução custo-benefício foi a penúltima, com com uma camada normal de 10 neurônios, e duas uniformes (a primeira com 10 neurônios e a última com um), além do batch com tamanho 10, e a execução de 5 épocas. Por possuir a mesma acurácia das melhores encontradas e uma maior velocidade que as demais.\n",
        "\n",
        "* A predição de um caso de vida ou morte é uma tarefa complexa, que exigiria um maior domínio sobre a área alvo, o que ressalta a  necessidade de uma quantidade relevante de estudo teórico e testes práticos para construir soluções sólidas, para o mercado de IA.\n",
        "Desta forma, a resolução acima é o efeito de sucessivas tentativas de fazê-lo, da melhor maneira conhecida pelos autores, no momento da criação deste, não sendo viável na prática."
      ],
      "metadata": {
        "id": "r54KVvI95RTZ"
      }
    }
  ]
}