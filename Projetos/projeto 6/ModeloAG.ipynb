{
  "nbformat": 4,
  "nbformat_minor": 0,
  "metadata": {
    "colab": {
      "name": "ModeloAG.ipynb",
      "provenance": [],
      "collapsed_sections": []
    },
    "kernelspec": {
      "name": "python3",
      "display_name": "Python 3"
    },
    "language_info": {
      "name": "python"
    }
  },
  "cells": [
    {
      "cell_type": "markdown",
      "source": [
        "**Instituto de Informática - UFG**\n",
        "\n",
        "Disciplina: Inteligência Computacional\n",
        "\n",
        "Prof. Cedric Luiz de Carvalho\n",
        "\n",
        "\n",
        "Grupo (Gabriel Olímpio Rocha Leão, Geovanny Magalhães Novais)\n",
        "\n",
        "---\n",
        "\n",
        "\n",
        "Analista de dados: Geovanny Magalhães Novais\n",
        "\n",
        "---\n",
        "\n",
        "Engenheiro(a) do conhecimento: Gabriel Olímpio Rocha Leão\n",
        "\n",
        "---"
      ],
      "metadata": {
        "id": "zFgSmAhYesqK"
      }
    },
    {
      "cell_type": "markdown",
      "source": [
        "# **COVID-19**\n",
        "\n",
        "O coronavírus (COVID-19) é uma doença infecciosa causada pelo vírus SARS-CoV-2.\n",
        "A maioria das pessoas que adoece em decorrência da COVID-19 apresenta sintomas leves a moderados e se recupera sem tratamento especial. No entanto, algumas desenvolvem um quadro grave e precisam de atendimento médico.\n",
        "\n",
        "O vírus pode se espalhar pela boca ou pelo nariz de uma pessoa infectada, em pequenas partículas líquidas expelidas quando elas tossem, espirram, falam, cantam ou respiram. O tamanho dessas partículas vai de gotas respiratórias maiores até aerosois menores.\n",
        "\n",
        "\n",
        "A infecção pode ocorrer caso você inale o vírus quando estiver perto de alguém que tenha COVID-19 ou se você tocar em uma superfície contaminada e, em seguida, passar as mãos nos olhos, no nariz ou na boca. O vírus se espalha com mais facilidade em locais fechados e em multidões.\n",
        "\n",
        "A COVID-19 afeta diferentes pessoas de diferentes maneiras. A maioria das pessoas infectadas apresentará sintomas leves a moderados da doença e não precisarão ser hospitalizadas.\n",
        "\n",
        "O Brasil vive uma nova onda de casos de Covid-19, com a variante Ômicron sendo responsável pela maior parte dos novos diagnósticos. Para as pessoas que contraíram o vírus, o médico nutrólogo Daniel Magnoni, presidente do Imem (Instituto de Metabolismo e Nutrição), lembra que a alimentação é muito importante para o organismo enfrentar a doença.\n",
        "\n",
        "“A dieta, mais especificamente a nutrição, faz parte do esquema terapêutico da Covid. A resposta do sistema imunológico vai ser melhor conforme nosso saldo nutricional”, afirma o especialista.\n",
        "\n",
        "\n",
        "**Sintomas mais comuns**:\n",
        "* Febre\n",
        "* Tosse\n",
        "* Cansaço\n",
        "* Perda de paladar ou olfato\n",
        "\n",
        "**Sintomas menos comuns**:\n",
        "* Dores de garganta\n",
        "* Dor de cabeça\n",
        "* Dores e desconfortos\n",
        "* Diarreia\n",
        "* Irritações na pele ou descoloração dos dedos dos pés ou das mãos\n",
        "* Olhos vermelhos ou irritados\n",
        "\n",
        "**Sintomas graves**:\n",
        "* Dificuldade para respirar ou falta de ar\n",
        "* Perda da fala, mobilidade ou confusão\n",
        "* Dores no peito\n",
        "\n",
        "**Orientações para evitar a propagação da COVID-19**:\n",
        "* Mantenha uma distância segura de outras pessoas (pelo menos 1 metro), mesmo que elas não pareçam estar doentes.\n",
        "* Use máscara em público, especialmente em locais fechados ou quando não for possível manter o distanciamento físico.\n",
        "* Prefira locais abertos e bem ventilados em vez de ambientes fechados. Abra uma janela se estiver em um local fechado.\n",
        "* Limpe as mãos com frequência. Use sabão e água ou álcool em gel.\n",
        "* Tome a vacina quando chegar a sua vez. Siga as orientações locais para isso.\n",
        "* Cubra o nariz e a boca com o braço dobrado ou um lenço ao tossir ou espirrar.\n",
        "* Fique em casa se você sentir indisposição.\n",
        "\n"
      ],
      "metadata": {
        "id": "etsGHC_Q4mwc"
      }
    },
    {
      "cell_type": "markdown",
      "source": [
        "# **Base de dados**\n",
        "\n",
        "Tivemos 5 base de dados para analisar, são elas:\n",
        "\n",
        "* **Fat_Supply_Quantity_Data.csv**: Este conjunto de dados inclui a porcentagem de ingestão de gordura de diferentes tipos de alimentos em países ao redor do mundo. As últimas duas colunas também incluem contagens de casos de obesidade, desnutrição e COVID-19 como porcentagens da população total para fins de comparação.\n",
        "* **Food_Supply_Quantity_kg_Data.csv**: Este conjunto de dados inclui a porcentagem de ingestão de alimentos (kg) em países ao redor do mundo. As últimas duas colunas também incluem contagens de casos de obesidade, desnutrição e COVID-19 como porcentagens da população total para fins de comparação.\n",
        "* **Food_Supply_kcal_Data.csv**: Este conjunto de dados inclui a porcentagem de ingestão de energia (kcal) de diferentes tipos de alimentos em países ao redor do mundo. As últimas duas colunas também incluem contagens de casos de obesidade, desnutrição e COVID-19 como porcentagens da população total para fins de comparação.\n",
        "* **Protein_Supply_Quantity_Data.csv**: Este conjunto de dados inclui a porcentagem de ingestão de proteínas de diferentes tipos de alimentos em países ao redor do mundo. As últimas duas colunas também incluem contagens de casos de obesidade, desnutrição e COVID-19 como porcentagens da população total para fins de comparação.\n",
        "* **Supply_Food_Data_Descriptions.csv**: Este conjunto de dados é obtido da FAO.org e é usado para mostrar os tipos específicos de alimentos que pertencem a cada categoria para os conjuntos de dados acima.\n"
      ],
      "metadata": {
        "id": "bcC4VqXI7CJV"
      }
    },
    {
      "cell_type": "markdown",
      "source": [
        "#**Descrição do modelo**\n",
        "\n",
        "Utilizando da [dados sobre a alimentação](https://www.kaggle.com/mariaren/covid19-healthy-diet-dataset), utilizaremos de algoritmos genéticos para identificar a melhor dieta alimentar que possa minimizar os efeitos da doença, seguindo as seguintes variáveis e suas descrições:\n",
        "\n",
        "**Alcoholic Beverages**: Quantidade de bebida alcoolica\n",
        "\n",
        "**Animal Products**: Alimentos de origem natural\n",
        "\n",
        "**Animal fats**: Gordura Animal\n",
        "\n",
        "**Aquatic Products, Other**: Outros produtos aquáticos\n",
        "\n",
        "**Cereals** - Excluding Beer: Cereais\n",
        "\n",
        "**Eggs**: Ovo\n",
        "\n",
        "**Fish, Seafood**: Peixe, Frutos do mar\n",
        "\n",
        "**Fruits** - Excluding Wine: frutos excluindo vinho\n",
        "\n",
        "**Meat**: carne\n",
        "\n",
        "**Miscellaneous**: variados\n",
        "\n",
        "**Milk - Excluding Butter**: Laticínios, excluindo manteiga\n",
        "\n",
        "**Offals**: - Miúdos comestíveis\n",
        "\n",
        "**Oilcrops**: - Oleaginosos\n",
        "\n",
        "**Pulses**: Leguminosa\n",
        "\n",
        "**Spices**: Pimenta\n",
        "\n",
        "**Starchy Roots**: - Raízes com amido\n",
        "\n",
        "**Stimulants**: - Estimulantes\n",
        "\n",
        "**Sugar Crops**: - Cana de açúcar/beterraba doce\n",
        "\n",
        "**Sugar & Sweeteners**: Açúcar e Adoçantes\n",
        "\n",
        "**Treenuts**: - Nozes\n",
        "\n",
        "**Vegetal Products**: - Produtos vegetais\n",
        "\n",
        "**Vegetables**: vegetais\n",
        "\n",
        "**Obesity**: taxa de obesidade\n",
        "\n",
        "**Undernourished**: taxa de desnutrição\n",
        "\n",
        "**Confirmed**: taxa de infectados com COVID-19\n",
        "\n",
        "**Deaths**: taxa de mortos com COVID-19\n",
        "\n",
        "**Recouvered**: taxa de recuperados de COVID-19\n",
        "\n",
        "**Active**: - Porcentagem de casos COVID-19 ativos\n",
        "\n",
        "**Population**: população total do país\n",
        "\n",
        "**Unit (all except Population)**: indica a unidade usada em todas as colunas exceto population\n",
        "\n",
        "\n",
        "\n",
        "**mitoses:** processo de divisão celular pelo qual o núcleo se divide\n",
        "\n",
        "**classeDoTumor:** representa se o(a) paciente possui tumor benigno (2) ou maligno (4)"
      ],
      "metadata": {
        "id": "R0opTTfMeiKT"
      }
    },
    {
      "cell_type": "markdown",
      "source": [
        "#**Algoritmos Genéticos**\n",
        "**Características**\n",
        "\n",
        "\n",
        "* Os AGs são inspirados em modelos biológicos, com características de busca cega, paralela e estocástica:\n",
        "* Processos Genéticos de Mendel (1865): como as gerações sucessoras recebem o material genético das gerações progenitoras;\n",
        "* Teoria da Evolução de Darwin (1859): capacidade de sobrevivência, adaptação e reprodução dos indivíduos;\n",
        "* Resolução de problemas complexos para os quais não existe um algoritmo eficiente conhecido.\n"
      ],
      "metadata": {
        "id": "a-Hu9k_asq37"
      }
    },
    {
      "cell_type": "markdown",
      "source": [
        "#**Vantagens**\n",
        "* Uma vantagem dos AG é o seu paralelismo. AG percorre o espaço das soluções usando mais indivíduos (e com genótipos em vez de fenótipos) de forma que eles são menos susceptíveis de \"enroscar\" em um extremo local do que os outros métodos.\n",
        "* São modulares e facilmente adaptáveis a qualquer tipo de problema, mesmo os mais complexos.\n",
        "* São métodos de otimização global, mais robustos a ótimos locais.\n",
        "Necessitam de pouca informação sobre o problema, basicamente, custo ou ganho de cada possível solução.\n",
        "* Podem otimizar um grande número de parâmetros discretos, contínuos ou combinações deles.\n",
        "* Realizam buscas simultâneas em várias regiões do espaço de busca (paralelismo inerente).\n",
        "* Podem ser eficientemente combinados com outras heurísticas de busca.\n",
        "\n"
      ],
      "metadata": {
        "id": "54V819tFvhU_"
      }
    },
    {
      "cell_type": "markdown",
      "source": [
        "# **Desvantagens**\n",
        "* A desvantagem dos AG é o tempo de processamento. Os AG podem ser mais lentos do que os outros métodos. Porém, desde que possamos terminar o cálculo sem restrições severas de tempo, o tempo mais longo é aceitável (principalmente com os computadores cada vez mais rápidos).\n",
        "* Podem ser bem mais lentos que outros métodos por trabalharem com uma população de soluções.\n",
        "* Dificuldade para se definir um mecanismo apropriado de codificação e avaliação de soluções.\n",
        "* Dificuldade para se ajustar adequadamente os valores de seus parâmetros de desempenho.\n",
        "* Fracos mecanismos de intensificação de busca, ocasionando baixas taxas de convergência."
      ],
      "metadata": {
        "id": "B3XLU48gwQhk"
      }
    },
    {
      "cell_type": "markdown",
      "source": [
        "#**Referências utilizadas**"
      ],
      "metadata": {
        "id": "8CPEqCdw9xEf"
      }
    },
    {
      "cell_type": "markdown",
      "source": [
        "* [Alimentação é aliada no tratamento contra a Covid-19](https://www.who.int/health-topics/coronavirus#tab=tab_3)\n",
        "\n",
        "* [Coronavirus disease (COVID-19)](https://www.who.int/health-topics/coronavirus#tab=tab_3)\n",
        "\n",
        "* [Coronavirus disease (COVID-19): How is it transmitted?](https://www.who.int/news-room/questions-and-answers/item/coronavirus-disease-covid-19-how-is-it-transmitted)\n",
        "\n",
        "* [sklearn.metrics.pairwise.cosine_similarity](https://scikit-learn.org/stable/modules/generated/sklearn.metrics.pairwise.cosine_similarity.html)"
      ],
      "metadata": {
        "id": "_9prJp0S91IR"
      }
    }
  ]
}