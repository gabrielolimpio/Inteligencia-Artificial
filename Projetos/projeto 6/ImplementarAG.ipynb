{
  "nbformat": 4,
  "nbformat_minor": 0,
  "metadata": {
    "colab": {
      "name": "ImplementarAG.ipynb",
      "provenance": [],
      "collapsed_sections": []
    },
    "kernelspec": {
      "name": "python3",
      "display_name": "Python 3"
    }
  },
  "cells": [
    {
      "cell_type": "markdown",
      "metadata": {
        "id": "mLKPZajBKe3L"
      },
      "source": [
        "**Instituto de Informática - UFG**\n",
        "\n",
        "Disciplina: Inteligência Artificial\n",
        "\n",
        "Prof. Cedric Luiz de Carvalho\n",
        "\n",
        "\n",
        "Grupo (Gabriel Olímpio Rocha Leão, Geovanny Magalhães Novais)\n",
        "\n",
        "---\n",
        "\n",
        "\n",
        "Analista de dados: Geovanny Magalhães Novais\n",
        "\n",
        "---\n",
        "\n",
        "Engenheiro(a) do conhecimento: Gabriel Olímpio Rocha Leão\n",
        "\n",
        "---\n"
      ]
    },
    {
      "cell_type": "markdown",
      "metadata": {
        "id": "o_bZhd8FMiSa"
      },
      "source": [
        "#Algoritmos genéticos\n",
        "\n",
        "\n",
        "\n"
      ]
    },
    {
      "cell_type": "markdown",
      "metadata": {
        "id": "YTE0x5IrTiwN"
      },
      "source": [
        "Utilizando as bases de [dados sobre a alimentação](https://www.kaggle.com/mariaren/covid19-healthy-diet-dataset), para identificar os diferentes tipos de alimentação que auxiliam no reforço contra a covid-19.\n",
        "\n"
      ]
    },
    {
      "cell_type": "markdown",
      "source": [
        "# Obtendo a base de dados"
      ],
      "metadata": {
        "id": "hv9TExW0A0Zw"
      }
    },
    {
      "cell_type": "code",
      "source": [
        "from google.colab import drive\n",
        "drive.mount(\"/content/drive\", force_remount=True)"
      ],
      "metadata": {
        "id": "BJZawgnBAsLh",
        "colab": {
          "base_uri": "https://localhost:8080/"
        },
        "outputId": "bd74a27a-7992-47cc-99f5-44187288e4ec"
      },
      "execution_count": 39,
      "outputs": [
        {
          "output_type": "stream",
          "name": "stdout",
          "text": [
            "Mounted at /content/drive\n"
          ]
        }
      ]
    },
    {
      "cell_type": "code",
      "source": [
        "import pandas as pd"
      ],
      "metadata": {
        "id": "tUiJmy4yVXvN"
      },
      "execution_count": 40,
      "outputs": []
    },
    {
      "cell_type": "code",
      "source": [
        "dados = pd.read_csv('/content/drive/MyDrive/ColabNotebooks/Trabalho6/unidos.csv')"
      ],
      "metadata": {
        "id": "18bI2yvJVYNa"
      },
      "execution_count": 41,
      "outputs": []
    },
    {
      "cell_type": "markdown",
      "source": [
        "# Carga dos dados"
      ],
      "metadata": {
        "id": "4aFyBJCaBSab"
      }
    },
    {
      "cell_type": "code",
      "source": [
        "kcal = pd.read_csv('/content/drive/MyDrive/ColabNotebooks/Trabalho6/Kcal.csv')\n",
        "kcal = kcal.drop(columns=('Unnamed: 0'))\n",
        "kcal"
      ],
      "metadata": {
        "id": "BvpQ5XtkBR0I"
      },
      "execution_count": null,
      "outputs": []
    },
    {
      "cell_type": "code",
      "source": [
        "dados = dados.drop(columns=(\"Country\"))\n",
        "dados"
      ],
      "metadata": {
        "colab": {
          "base_uri": "https://localhost:8080/",
          "height": 505
        },
        "id": "BYclFD-egQnx",
        "outputId": "3f6759af-c41f-4032-c386-5397be411f77"
      },
      "execution_count": 65,
      "outputs": [
        {
          "output_type": "execute_result",
          "data": {
            "text/plain": [
              "     Unnamed: 0  Obesity  Confirmed    Deaths  Recovered    Active  \\\n",
              "0             0      4.5   0.142134  0.006186   0.123374  0.012574   \n",
              "1             1     22.3   2.967301  0.050951   1.792636  1.123714   \n",
              "2             2     26.6   0.244897  0.006558   0.167572  0.070767   \n",
              "3             3      6.8   0.061687  0.001461   0.056808  0.003419   \n",
              "4             5     28.5   4.356147  0.108227   3.905192  0.342729   \n",
              "..          ...      ...        ...       ...        ...       ...   \n",
              "149         165     25.2   0.452585  0.004287   0.424399  0.023899   \n",
              "150         166      2.1   0.002063  0.000036   0.001526  0.000501   \n",
              "151         167     14.1   0.007131  0.002062   0.004788  0.000282   \n",
              "152         168      6.5   0.334133  0.004564   0.290524  0.039045   \n",
              "153         169     12.3   0.232033  0.008854   0.190964  0.032214   \n",
              "\n",
              "     Population  Undernourished  Alcoholic Beverages  Animal Products  ...  \\\n",
              "0    38928000.0            29.8               0.0000          21.6397  ...   \n",
              "1     2838000.0             6.2               0.0000          32.0002  ...   \n",
              "2    44357000.0             3.9               0.0000          14.4175  ...   \n",
              "3    32522000.0            25.0               0.0000          15.3041  ...   \n",
              "4    45377000.0             4.6               0.0000          30.3572  ...   \n",
              "..          ...             ...                  ...              ...  ...   \n",
              "149  28645000.0            21.2               0.0000          16.3261  ...   \n",
              "150  96209000.0             9.3               0.0000          33.2484  ...   \n",
              "151  29826000.0            38.9               0.0000          12.5401  ...   \n",
              "152  18384000.0            46.7               0.0783           9.6005  ...   \n",
              "153  14863000.0            51.3               0.0000          10.3796  ...   \n",
              "\n",
              "     Spices.3  Starchy Roots.3  Stimulants.3  Sugar Crops.3  \\\n",
              "0      0.1664           0.1941        0.5546         0.0000   \n",
              "1      0.0000           0.8867        0.2635         0.0000   \n",
              "2      0.1776           1.4638        0.4628         0.0000   \n",
              "3      0.0000           5.1941        0.1017         0.0000   \n",
              "4      0.0292           1.3096        0.9688         0.0000   \n",
              "..        ...              ...           ...            ...   \n",
              "149    0.0000           1.1195        0.3287         0.0000   \n",
              "150    0.5221           0.2333        0.5444         0.0167   \n",
              "151    0.0657           0.2066        0.3193         0.0000   \n",
              "152    0.0846           1.2863        0.0762         0.0000   \n",
              "153    0.0488           0.5467        0.2636         0.0000   \n",
              "\n",
              "     Sugar & Sweeteners.3  Treenuts.3  Vegetal Products.3  Vegetable Oils.3  \\\n",
              "0                  0.0000      0.1387             40.2477            0.0000   \n",
              "1                  0.0042      0.2677             22.2552            0.0084   \n",
              "2                  0.0000      0.2745             36.1694            0.0269   \n",
              "3                  0.0092      0.0092             34.7782            0.0092   \n",
              "4                  0.0049      0.0438             18.0176            0.0000   \n",
              "..                    ...         ...                 ...               ...   \n",
              "149                0.0178      0.0000             27.4545            0.0533   \n",
              "150                0.0056      0.3277             29.5617            0.0000   \n",
              "151                0.0000      0.0188             39.9831            0.0000   \n",
              "152                0.0000      0.0000             40.1117            0.0000   \n",
              "153                0.0000      0.1367             38.6508            0.0293   \n",
              "\n",
              "     Vegetables.3  Miscellaneous.3  \n",
              "0          1.1370           0.0462  \n",
              "1          3.2456           0.0544  \n",
              "2          3.1267           0.1399  \n",
              "3          0.8133           0.0924  \n",
              "4          1.0516           0.0000  \n",
              "..            ...              ...  \n",
              "149        1.0129           0.0267  \n",
              "150        3.7216           0.0389  \n",
              "151        0.5448           0.0564  \n",
              "152        0.8039           0.0592  \n",
              "153        0.5955           0.0586  \n",
              "\n",
              "[154 rows x 100 columns]"
            ],
            "text/html": [
              "\n",
              "  <div id=\"df-de1215bc-b1ff-4259-8de5-5dcecf7a21b6\">\n",
              "    <div class=\"colab-df-container\">\n",
              "      <div>\n",
              "<style scoped>\n",
              "    .dataframe tbody tr th:only-of-type {\n",
              "        vertical-align: middle;\n",
              "    }\n",
              "\n",
              "    .dataframe tbody tr th {\n",
              "        vertical-align: top;\n",
              "    }\n",
              "\n",
              "    .dataframe thead th {\n",
              "        text-align: right;\n",
              "    }\n",
              "</style>\n",
              "<table border=\"1\" class=\"dataframe\">\n",
              "  <thead>\n",
              "    <tr style=\"text-align: right;\">\n",
              "      <th></th>\n",
              "      <th>Unnamed: 0</th>\n",
              "      <th>Obesity</th>\n",
              "      <th>Confirmed</th>\n",
              "      <th>Deaths</th>\n",
              "      <th>Recovered</th>\n",
              "      <th>Active</th>\n",
              "      <th>Population</th>\n",
              "      <th>Undernourished</th>\n",
              "      <th>Alcoholic Beverages</th>\n",
              "      <th>Animal Products</th>\n",
              "      <th>...</th>\n",
              "      <th>Spices.3</th>\n",
              "      <th>Starchy Roots.3</th>\n",
              "      <th>Stimulants.3</th>\n",
              "      <th>Sugar Crops.3</th>\n",
              "      <th>Sugar &amp; Sweeteners.3</th>\n",
              "      <th>Treenuts.3</th>\n",
              "      <th>Vegetal Products.3</th>\n",
              "      <th>Vegetable Oils.3</th>\n",
              "      <th>Vegetables.3</th>\n",
              "      <th>Miscellaneous.3</th>\n",
              "    </tr>\n",
              "  </thead>\n",
              "  <tbody>\n",
              "    <tr>\n",
              "      <th>0</th>\n",
              "      <td>0</td>\n",
              "      <td>4.5</td>\n",
              "      <td>0.142134</td>\n",
              "      <td>0.006186</td>\n",
              "      <td>0.123374</td>\n",
              "      <td>0.012574</td>\n",
              "      <td>38928000.0</td>\n",
              "      <td>29.8</td>\n",
              "      <td>0.0000</td>\n",
              "      <td>21.6397</td>\n",
              "      <td>...</td>\n",
              "      <td>0.1664</td>\n",
              "      <td>0.1941</td>\n",
              "      <td>0.5546</td>\n",
              "      <td>0.0000</td>\n",
              "      <td>0.0000</td>\n",
              "      <td>0.1387</td>\n",
              "      <td>40.2477</td>\n",
              "      <td>0.0000</td>\n",
              "      <td>1.1370</td>\n",
              "      <td>0.0462</td>\n",
              "    </tr>\n",
              "    <tr>\n",
              "      <th>1</th>\n",
              "      <td>1</td>\n",
              "      <td>22.3</td>\n",
              "      <td>2.967301</td>\n",
              "      <td>0.050951</td>\n",
              "      <td>1.792636</td>\n",
              "      <td>1.123714</td>\n",
              "      <td>2838000.0</td>\n",
              "      <td>6.2</td>\n",
              "      <td>0.0000</td>\n",
              "      <td>32.0002</td>\n",
              "      <td>...</td>\n",
              "      <td>0.0000</td>\n",
              "      <td>0.8867</td>\n",
              "      <td>0.2635</td>\n",
              "      <td>0.0000</td>\n",
              "      <td>0.0042</td>\n",
              "      <td>0.2677</td>\n",
              "      <td>22.2552</td>\n",
              "      <td>0.0084</td>\n",
              "      <td>3.2456</td>\n",
              "      <td>0.0544</td>\n",
              "    </tr>\n",
              "    <tr>\n",
              "      <th>2</th>\n",
              "      <td>2</td>\n",
              "      <td>26.6</td>\n",
              "      <td>0.244897</td>\n",
              "      <td>0.006558</td>\n",
              "      <td>0.167572</td>\n",
              "      <td>0.070767</td>\n",
              "      <td>44357000.0</td>\n",
              "      <td>3.9</td>\n",
              "      <td>0.0000</td>\n",
              "      <td>14.4175</td>\n",
              "      <td>...</td>\n",
              "      <td>0.1776</td>\n",
              "      <td>1.4638</td>\n",
              "      <td>0.4628</td>\n",
              "      <td>0.0000</td>\n",
              "      <td>0.0000</td>\n",
              "      <td>0.2745</td>\n",
              "      <td>36.1694</td>\n",
              "      <td>0.0269</td>\n",
              "      <td>3.1267</td>\n",
              "      <td>0.1399</td>\n",
              "    </tr>\n",
              "    <tr>\n",
              "      <th>3</th>\n",
              "      <td>3</td>\n",
              "      <td>6.8</td>\n",
              "      <td>0.061687</td>\n",
              "      <td>0.001461</td>\n",
              "      <td>0.056808</td>\n",
              "      <td>0.003419</td>\n",
              "      <td>32522000.0</td>\n",
              "      <td>25.0</td>\n",
              "      <td>0.0000</td>\n",
              "      <td>15.3041</td>\n",
              "      <td>...</td>\n",
              "      <td>0.0000</td>\n",
              "      <td>5.1941</td>\n",
              "      <td>0.1017</td>\n",
              "      <td>0.0000</td>\n",
              "      <td>0.0092</td>\n",
              "      <td>0.0092</td>\n",
              "      <td>34.7782</td>\n",
              "      <td>0.0092</td>\n",
              "      <td>0.8133</td>\n",
              "      <td>0.0924</td>\n",
              "    </tr>\n",
              "    <tr>\n",
              "      <th>4</th>\n",
              "      <td>5</td>\n",
              "      <td>28.5</td>\n",
              "      <td>4.356147</td>\n",
              "      <td>0.108227</td>\n",
              "      <td>3.905192</td>\n",
              "      <td>0.342729</td>\n",
              "      <td>45377000.0</td>\n",
              "      <td>4.6</td>\n",
              "      <td>0.0000</td>\n",
              "      <td>30.3572</td>\n",
              "      <td>...</td>\n",
              "      <td>0.0292</td>\n",
              "      <td>1.3096</td>\n",
              "      <td>0.9688</td>\n",
              "      <td>0.0000</td>\n",
              "      <td>0.0049</td>\n",
              "      <td>0.0438</td>\n",
              "      <td>18.0176</td>\n",
              "      <td>0.0000</td>\n",
              "      <td>1.0516</td>\n",
              "      <td>0.0000</td>\n",
              "    </tr>\n",
              "    <tr>\n",
              "      <th>...</th>\n",
              "      <td>...</td>\n",
              "      <td>...</td>\n",
              "      <td>...</td>\n",
              "      <td>...</td>\n",
              "      <td>...</td>\n",
              "      <td>...</td>\n",
              "      <td>...</td>\n",
              "      <td>...</td>\n",
              "      <td>...</td>\n",
              "      <td>...</td>\n",
              "      <td>...</td>\n",
              "      <td>...</td>\n",
              "      <td>...</td>\n",
              "      <td>...</td>\n",
              "      <td>...</td>\n",
              "      <td>...</td>\n",
              "      <td>...</td>\n",
              "      <td>...</td>\n",
              "      <td>...</td>\n",
              "      <td>...</td>\n",
              "      <td>...</td>\n",
              "    </tr>\n",
              "    <tr>\n",
              "      <th>149</th>\n",
              "      <td>165</td>\n",
              "      <td>25.2</td>\n",
              "      <td>0.452585</td>\n",
              "      <td>0.004287</td>\n",
              "      <td>0.424399</td>\n",
              "      <td>0.023899</td>\n",
              "      <td>28645000.0</td>\n",
              "      <td>21.2</td>\n",
              "      <td>0.0000</td>\n",
              "      <td>16.3261</td>\n",
              "      <td>...</td>\n",
              "      <td>0.0000</td>\n",
              "      <td>1.1195</td>\n",
              "      <td>0.3287</td>\n",
              "      <td>0.0000</td>\n",
              "      <td>0.0178</td>\n",
              "      <td>0.0000</td>\n",
              "      <td>27.4545</td>\n",
              "      <td>0.0533</td>\n",
              "      <td>1.0129</td>\n",
              "      <td>0.0267</td>\n",
              "    </tr>\n",
              "    <tr>\n",
              "      <th>150</th>\n",
              "      <td>166</td>\n",
              "      <td>2.1</td>\n",
              "      <td>0.002063</td>\n",
              "      <td>0.000036</td>\n",
              "      <td>0.001526</td>\n",
              "      <td>0.000501</td>\n",
              "      <td>96209000.0</td>\n",
              "      <td>9.3</td>\n",
              "      <td>0.0000</td>\n",
              "      <td>33.2484</td>\n",
              "      <td>...</td>\n",
              "      <td>0.5221</td>\n",
              "      <td>0.2333</td>\n",
              "      <td>0.5444</td>\n",
              "      <td>0.0167</td>\n",
              "      <td>0.0056</td>\n",
              "      <td>0.3277</td>\n",
              "      <td>29.5617</td>\n",
              "      <td>0.0000</td>\n",
              "      <td>3.7216</td>\n",
              "      <td>0.0389</td>\n",
              "    </tr>\n",
              "    <tr>\n",
              "      <th>151</th>\n",
              "      <td>167</td>\n",
              "      <td>14.1</td>\n",
              "      <td>0.007131</td>\n",
              "      <td>0.002062</td>\n",
              "      <td>0.004788</td>\n",
              "      <td>0.000282</td>\n",
              "      <td>29826000.0</td>\n",
              "      <td>38.9</td>\n",
              "      <td>0.0000</td>\n",
              "      <td>12.5401</td>\n",
              "      <td>...</td>\n",
              "      <td>0.0657</td>\n",
              "      <td>0.2066</td>\n",
              "      <td>0.3193</td>\n",
              "      <td>0.0000</td>\n",
              "      <td>0.0000</td>\n",
              "      <td>0.0188</td>\n",
              "      <td>39.9831</td>\n",
              "      <td>0.0000</td>\n",
              "      <td>0.5448</td>\n",
              "      <td>0.0564</td>\n",
              "    </tr>\n",
              "    <tr>\n",
              "      <th>152</th>\n",
              "      <td>168</td>\n",
              "      <td>6.5</td>\n",
              "      <td>0.334133</td>\n",
              "      <td>0.004564</td>\n",
              "      <td>0.290524</td>\n",
              "      <td>0.039045</td>\n",
              "      <td>18384000.0</td>\n",
              "      <td>46.7</td>\n",
              "      <td>0.0783</td>\n",
              "      <td>9.6005</td>\n",
              "      <td>...</td>\n",
              "      <td>0.0846</td>\n",
              "      <td>1.2863</td>\n",
              "      <td>0.0762</td>\n",
              "      <td>0.0000</td>\n",
              "      <td>0.0000</td>\n",
              "      <td>0.0000</td>\n",
              "      <td>40.1117</td>\n",
              "      <td>0.0000</td>\n",
              "      <td>0.8039</td>\n",
              "      <td>0.0592</td>\n",
              "    </tr>\n",
              "    <tr>\n",
              "      <th>153</th>\n",
              "      <td>169</td>\n",
              "      <td>12.3</td>\n",
              "      <td>0.232033</td>\n",
              "      <td>0.008854</td>\n",
              "      <td>0.190964</td>\n",
              "      <td>0.032214</td>\n",
              "      <td>14863000.0</td>\n",
              "      <td>51.3</td>\n",
              "      <td>0.0000</td>\n",
              "      <td>10.3796</td>\n",
              "      <td>...</td>\n",
              "      <td>0.0488</td>\n",
              "      <td>0.5467</td>\n",
              "      <td>0.2636</td>\n",
              "      <td>0.0000</td>\n",
              "      <td>0.0000</td>\n",
              "      <td>0.1367</td>\n",
              "      <td>38.6508</td>\n",
              "      <td>0.0293</td>\n",
              "      <td>0.5955</td>\n",
              "      <td>0.0586</td>\n",
              "    </tr>\n",
              "  </tbody>\n",
              "</table>\n",
              "<p>154 rows × 100 columns</p>\n",
              "</div>\n",
              "      <button class=\"colab-df-convert\" onclick=\"convertToInteractive('df-de1215bc-b1ff-4259-8de5-5dcecf7a21b6')\"\n",
              "              title=\"Convert this dataframe to an interactive table.\"\n",
              "              style=\"display:none;\">\n",
              "        \n",
              "  <svg xmlns=\"http://www.w3.org/2000/svg\" height=\"24px\"viewBox=\"0 0 24 24\"\n",
              "       width=\"24px\">\n",
              "    <path d=\"M0 0h24v24H0V0z\" fill=\"none\"/>\n",
              "    <path d=\"M18.56 5.44l.94 2.06.94-2.06 2.06-.94-2.06-.94-.94-2.06-.94 2.06-2.06.94zm-11 1L8.5 8.5l.94-2.06 2.06-.94-2.06-.94L8.5 2.5l-.94 2.06-2.06.94zm10 10l.94 2.06.94-2.06 2.06-.94-2.06-.94-.94-2.06-.94 2.06-2.06.94z\"/><path d=\"M17.41 7.96l-1.37-1.37c-.4-.4-.92-.59-1.43-.59-.52 0-1.04.2-1.43.59L10.3 9.45l-7.72 7.72c-.78.78-.78 2.05 0 2.83L4 21.41c.39.39.9.59 1.41.59.51 0 1.02-.2 1.41-.59l7.78-7.78 2.81-2.81c.8-.78.8-2.07 0-2.86zM5.41 20L4 18.59l7.72-7.72 1.47 1.35L5.41 20z\"/>\n",
              "  </svg>\n",
              "      </button>\n",
              "      \n",
              "  <style>\n",
              "    .colab-df-container {\n",
              "      display:flex;\n",
              "      flex-wrap:wrap;\n",
              "      gap: 12px;\n",
              "    }\n",
              "\n",
              "    .colab-df-convert {\n",
              "      background-color: #E8F0FE;\n",
              "      border: none;\n",
              "      border-radius: 50%;\n",
              "      cursor: pointer;\n",
              "      display: none;\n",
              "      fill: #1967D2;\n",
              "      height: 32px;\n",
              "      padding: 0 0 0 0;\n",
              "      width: 32px;\n",
              "    }\n",
              "\n",
              "    .colab-df-convert:hover {\n",
              "      background-color: #E2EBFA;\n",
              "      box-shadow: 0px 1px 2px rgba(60, 64, 67, 0.3), 0px 1px 3px 1px rgba(60, 64, 67, 0.15);\n",
              "      fill: #174EA6;\n",
              "    }\n",
              "\n",
              "    [theme=dark] .colab-df-convert {\n",
              "      background-color: #3B4455;\n",
              "      fill: #D2E3FC;\n",
              "    }\n",
              "\n",
              "    [theme=dark] .colab-df-convert:hover {\n",
              "      background-color: #434B5C;\n",
              "      box-shadow: 0px 1px 3px 1px rgba(0, 0, 0, 0.15);\n",
              "      filter: drop-shadow(0px 1px 2px rgba(0, 0, 0, 0.3));\n",
              "      fill: #FFFFFF;\n",
              "    }\n",
              "  </style>\n",
              "\n",
              "      <script>\n",
              "        const buttonEl =\n",
              "          document.querySelector('#df-de1215bc-b1ff-4259-8de5-5dcecf7a21b6 button.colab-df-convert');\n",
              "        buttonEl.style.display =\n",
              "          google.colab.kernel.accessAllowed ? 'block' : 'none';\n",
              "\n",
              "        async function convertToInteractive(key) {\n",
              "          const element = document.querySelector('#df-de1215bc-b1ff-4259-8de5-5dcecf7a21b6');\n",
              "          const dataTable =\n",
              "            await google.colab.kernel.invokeFunction('convertToInteractive',\n",
              "                                                     [key], {});\n",
              "          if (!dataTable) return;\n",
              "\n",
              "          const docLinkHtml = 'Like what you see? Visit the ' +\n",
              "            '<a target=\"_blank\" href=https://colab.research.google.com/notebooks/data_table.ipynb>data table notebook</a>'\n",
              "            + ' to learn more about interactive tables.';\n",
              "          element.innerHTML = '';\n",
              "          dataTable['output_type'] = 'display_data';\n",
              "          await google.colab.output.renderOutput(dataTable, element);\n",
              "          const docLink = document.createElement('div');\n",
              "          docLink.innerHTML = docLinkHtml;\n",
              "          element.appendChild(docLink);\n",
              "        }\n",
              "      </script>\n",
              "    </div>\n",
              "  </div>\n",
              "  "
            ]
          },
          "metadata": {},
          "execution_count": 65
        }
      ]
    },
    {
      "cell_type": "markdown",
      "source": [
        "* ?"
      ],
      "metadata": {
        "id": "xklEi7c_BZ-H"
      }
    },
    {
      "cell_type": "markdown",
      "source": [
        "# Implementação"
      ],
      "metadata": {
        "id": "KGm4eyFYBdx4"
      }
    },
    {
      "cell_type": "code",
      "source": [
        "!pip install geneticalgorithm"
      ],
      "metadata": {
        "id": "1FxL4VupBfPp",
        "colab": {
          "base_uri": "https://localhost:8080/"
        },
        "outputId": "1d01e6e8-ddfc-4dca-982d-48684e081593"
      },
      "execution_count": 43,
      "outputs": [
        {
          "output_type": "stream",
          "name": "stdout",
          "text": [
            "Requirement already satisfied: geneticalgorithm in /usr/local/lib/python3.7/dist-packages (1.0.2)\n",
            "Requirement already satisfied: func-timeout in /usr/local/lib/python3.7/dist-packages (from geneticalgorithm) (4.3.5)\n",
            "Requirement already satisfied: numpy in /usr/local/lib/python3.7/dist-packages (from geneticalgorithm) (1.21.5)\n"
          ]
        }
      ]
    },
    {
      "cell_type": "markdown",
      "source": [
        "# Definição da função objetivo"
      ],
      "metadata": {
        "id": "b76mXbHOBi7Z"
      }
    },
    {
      "cell_type": "code",
      "source": [
        "qntd_variaveis=len(kcal.columns)\n",
        "qntd_variaveis"
      ],
      "metadata": {
        "id": "O6xjibueBhAw",
        "colab": {
          "base_uri": "https://localhost:8080/"
        },
        "outputId": "4e9fcc56-85e0-4f1f-8400-2272b972b68b"
      },
      "execution_count": 66,
      "outputs": [
        {
          "output_type": "execute_result",
          "data": {
            "text/plain": [
              "23"
            ]
          },
          "metadata": {},
          "execution_count": 66
        }
      ]
    },
    {
      "cell_type": "code",
      "source": [
        "kcal.columns"
      ],
      "metadata": {
        "id": "Lb-BBcmcBqz9",
        "colab": {
          "base_uri": "https://localhost:8080/"
        },
        "outputId": "485994e6-a48f-4b0f-f545-a777bc0fe428"
      },
      "execution_count": 67,
      "outputs": [
        {
          "output_type": "execute_result",
          "data": {
            "text/plain": [
              "Index(['Alcoholic Beverages', 'Animal Products', 'Animal fats',\n",
              "       'Aquatic Products, Other', 'Cereals - Excluding Beer', 'Eggs',\n",
              "       'Fish, Seafood', 'Fruits - Excluding Wine', 'Meat',\n",
              "       'Milk - Excluding Butter', 'Miscellaneous', 'Offals', 'Oilcrops',\n",
              "       'Pulses', 'Spices', 'Starchy Roots', 'Stimulants', 'Sugar Crops',\n",
              "       'Sugar & Sweeteners', 'Treenuts', 'Vegetal Products', 'Vegetable Oils',\n",
              "       'Vegetables'],\n",
              "      dtype='object')"
            ]
          },
          "metadata": {},
          "execution_count": 67
        }
      ]
    },
    {
      "cell_type": "markdown",
      "source": [
        "A nossa primeira parte da função objetivo será uma função linear sobre a quantidade de alimentos."
      ],
      "metadata": {
        "id": "02pzOFocBu0a"
      }
    },
    {
      "cell_type": "code",
      "source": [
        "import numpy as np\n",
        "\n",
        "#Gerando uma população aleatoriamente\n",
        "np.random.seed(seed=2022) # Usar um seed para dar reprodutibilidade\n",
        "pesos = np.random.rand(qntd_variaveis)\n",
        "\n",
        "#Relacionando a população com os dados do dataset escolhido para a analise inicial.\n",
        "#Faz o produto escalar entre os pesos dos alimentos e o peso da população gerada\n",
        "def objetive_function(qnt_kcal):\n",
        "    return np.dot(qnt_kcal, pesos)"
      ],
      "metadata": {
        "id": "BPjDnMsfBsHz"
      },
      "execution_count": 68,
      "outputs": []
    },
    {
      "cell_type": "code",
      "source": [
        "print(len(kcal.columns))"
      ],
      "metadata": {
        "id": "JTdb3eH6BzQ5",
        "colab": {
          "base_uri": "https://localhost:8080/"
        },
        "outputId": "35b6775a-e950-4da6-8850-ed0812ec994c"
      },
      "execution_count": 69,
      "outputs": [
        {
          "output_type": "stream",
          "name": "stdout",
          "text": [
            "23\n"
          ]
        }
      ]
    },
    {
      "cell_type": "markdown",
      "source": [
        "# Definição do fitness"
      ],
      "metadata": {
        "id": "XvuBlV7PB4PX"
      }
    },
    {
      "cell_type": "markdown",
      "source": [
        "Podemos definir as retrições na tentativa de identificar uma métrica de fintness aplicada por meio de penalidades, ou seja, se o modelo desobedecer a restrição terá uma penalidade no valor de sua função objetivo. Desta forma, soluções que não respeitarem as restrições irão sofrer penalidades e não serão soluções ótimas."
      ],
      "metadata": {
        "id": "goHjqQy4B6x-"
      }
    },
    {
      "cell_type": "markdown",
      "source": [
        "Função auxiliar encontrar o país mais semelhante usando similaridade cosseno"
      ],
      "metadata": {
        "id": "LVjZu4plB9eg"
      }
    },
    {
      "cell_type": "code",
      "source": [
        "from sklearn.metrics.pairwise import cosine_similarity\n",
        "\n",
        "def find_most_similar_country(qnt_kcal):\n",
        "    #utiliza a função cosine_similarity para avalir o quao \"parecido\" e um pais dos dados desejados\n",
        "    countries_similarities = cosine_similarity([qnt_kcal], kcal) #Busca o pais mais proximo do objetivo\n",
        "    value = countries_similarities.max() # encontra o valor maximo de similaridade\n",
        "    \n",
        "    i, j = np.where(np.isclose(countries_similarities, value)) # identifica o index do país similar\n",
        "\n",
        "    country_index = j\n",
        "    return country_index # retorna o país encontrado"
      ],
      "metadata": {
        "id": "lbC4yHofB7bO"
      },
      "execution_count": 76,
      "outputs": []
    },
    {
      "cell_type": "markdown",
      "source": [
        "# Penalidades"
      ],
      "metadata": {
        "id": "3yaba1G3CAz0"
      }
    },
    {
      "cell_type": "markdown",
      "source": [
        "Para implementar as penalidades nós utilizamos algumas informações da tabela que julgamos ser as mais cruciais em relação ao novo coronavirus. Nós levamos em consideração uma série de fatores visando minimizar principalmente casos de morte de pacientes pelo vírus, em segundo lugar novos casos confirmados de infecção causada pelo vírus e por fim problemas de saúde que são considerados comorbidades e levam o paciente ao grupo de risco da doença, que são obesidade e desnutrição.\n",
        "\n",
        "Para isso analisamos a distribuição destes dados na base de dados e verificamos principalmente o valor da média, que será usado como parâmetro nas restrições de penalidades. Assim, abaixo podemos constatar as distribuições de cada uma das informações citadas:"
      ],
      "metadata": {
        "id": "aIhws4oTCFBG"
      }
    },
    {
      "cell_type": "markdown",
      "source": [
        "* Implementando Penalidades"
      ],
      "metadata": {
        "id": "qoLuw3ZICHEH"
      }
    },
    {
      "cell_type": "markdown",
      "source": [
        "Abaixo é implementado a função de penalidades, sendo levadas em consideração as médias das seguintes características ordenadas por grau de seus pesos:\n",
        "\n",
        "\n",
        "\n",
        "*   Maior peso: Quantidade de mortes;\n",
        "*   Segundo maior peso: Quantidade de casos confirmados;\n",
        "*   Terceiro maior peso: Obesidade;\n",
        "*   Quarto e menor peso: Desnutrição;\n",
        "\n",
        "Ou seja, vamos dar uma penalidade maior para mortes e casos confirmados, do que para os valores de obesidade e desnutrição.\n",
        "\n",
        "\n",
        "\n",
        "\n",
        "\n"
      ],
      "metadata": {
        "id": "s7538FngCQ7o"
      }
    },
    {
      "cell_type": "code",
      "source": [
        "def penalties(qnt_kcal):\n",
        "  \n",
        "    penalty = 0\n",
        "    obesidade_md = dados.Obesity.mean()\n",
        "    mortes_md = dados.Deaths.mean()\n",
        "    confirmados_md = dados.Confirmed.mean()\n",
        "    desnutr_md = dados.Undernourished.mean()\n",
        "    most_similar = find_most_similar_country(qnt_kcal)\n",
        "\n",
        "    most_similar = most_similar[0].item()\n",
        "\n",
        "    if most_similar >= 154:\n",
        "      country = dados.iloc[most_similar - 154]\n",
        "    \n",
        "    else:\n",
        "      country = dados.iloc[most_similar]\n",
        "\n",
        "    #se a taxa de obesidade for acima da média, então ocorre uma punição\n",
        "    if country[1] > obesidade_md:\n",
        "      penalty += 10 \n",
        "    \n",
        "    #se a taxa de casos confirmados for acima da média, então ocorre uma punição\n",
        "    if country[2] > confirmados_md:\n",
        "        penalty += 20\n",
        "    \n",
        "    #se a taxa de mortes confirmadas for acima da média, então ocorre uma punição\n",
        "    if country[3] > mortes_md:\n",
        "        penalty += 40\n",
        "    \n",
        "    #se a taxa de desnutrição for acima da média, então ocorre uma punição\n",
        "    if country[7] > desnutr_md:\n",
        "        penalty += 5\n",
        "\n",
        "    return penalty"
      ],
      "metadata": {
        "id": "YXgcYP-SCsum"
      },
      "execution_count": 71,
      "outputs": []
    },
    {
      "cell_type": "markdown",
      "source": [
        "# Executar algoritmo genético"
      ],
      "metadata": {
        "id": "aUehRzXLCvcL"
      }
    },
    {
      "cell_type": "markdown",
      "source": [
        "Apresentando a base de dados levada em consideração para o cálculo da solução:\n",
        "\n"
      ],
      "metadata": {
        "id": "PSjd4py6Cwkt"
      }
    },
    {
      "cell_type": "code",
      "source": [
        "(dados)"
      ],
      "metadata": {
        "id": "NGYQlhPICyXE"
      },
      "execution_count": null,
      "outputs": []
    },
    {
      "cell_type": "markdown",
      "source": [
        "Implementando a função objetivo"
      ],
      "metadata": {
        "id": "Hx97aFfKC6nX"
      }
    },
    {
      "cell_type": "code",
      "source": [
        "from geneticalgorithm import geneticalgorithm as ga"
      ],
      "metadata": {
        "id": "flwMMcnoC6M6"
      },
      "execution_count": 79,
      "outputs": []
    },
    {
      "cell_type": "markdown",
      "source": [
        "A variavel qnt_kcal é gerada pela propria biblioteca, sendo ela um array numpy com o limite definido acima"
      ],
      "metadata": {
        "id": "F_1HXVryiCoP"
      }
    },
    {
      "cell_type": "code",
      "source": [
        "varbound=np.array([[0,0.3]]*qntd_variaveis)"
      ],
      "metadata": {
        "id": "8pgKRsGOh_AP"
      },
      "execution_count": 80,
      "outputs": []
    },
    {
      "cell_type": "markdown",
      "source": [
        "A função final é a função objetivo menos a penalidade"
      ],
      "metadata": {
        "id": "PzvQTOIAiKTn"
      }
    },
    {
      "cell_type": "code",
      "source": [
        "model = ga(\n",
        "    function=lambda qnt_kcal: penalties(qnt_kcal) + objetive_function(qnt_kcal), \n",
        "    dimension=qntd_variaveis,\n",
        "    variable_type='real',\n",
        "    variable_boundaries=varbound \n",
        ")"
      ],
      "metadata": {
        "id": "-1g1BokBh399"
      },
      "execution_count": 81,
      "outputs": []
    },
    {
      "cell_type": "code",
      "source": [
        "model.run()"
      ],
      "metadata": {
        "colab": {
          "base_uri": "https://localhost:8080/",
          "height": 434
        },
        "id": "RllE8qcFh3NF",
        "outputId": "ee69b81a-8dae-4529-e07f-e5453d9757f0"
      },
      "execution_count": 82,
      "outputs": [
        {
          "output_type": "stream",
          "name": "stdout",
          "text": [
            " The best solution found:\n",
            " [0.1926909  0.01680871 0.02535929 0.0775994  0.05020181 0.07130818\n",
            " 0.01180005 0.0365422  0.00404959 0.0011334  0.02774882 0.00750964\n",
            " 0.01744515 0.00561045 0.00553345 0.00975975 0.0818454  0.02228306\n",
            " 0.036049   0.16574558 0.00376287 0.01462897 0.08876319]\n",
            "\n",
            " Objective function:\n",
            " 0.3072457752743869\n"
          ]
        },
        {
          "output_type": "display_data",
          "data": {
            "text/plain": [
              "<Figure size 432x288 with 1 Axes>"
            ],
            "image/png": "[encoded data removed]"
          },
          "metadata": {
            "needs_background": "light"
          }
        }
      ]
    },
    {
      "cell_type": "markdown",
      "source": [
        "O modelo escolhido possui os parâmetros padrões do pacote."
      ],
      "metadata": {
        "id": "KyazB-quC-u0"
      }
    },
    {
      "cell_type": "code",
      "source": [
        "model.param"
      ],
      "metadata": {
        "id": "Ut3-PTT7DAvW",
        "colab": {
          "base_uri": "https://localhost:8080/"
        },
        "outputId": "654a9e0c-2ea3-415c-c256-c6469ed1543c"
      },
      "execution_count": 83,
      "outputs": [
        {
          "output_type": "execute_result",
          "data": {
            "text/plain": [
              "{'crossover_probability': 0.5,\n",
              " 'crossover_type': 'uniform',\n",
              " 'elit_ratio': 0.01,\n",
              " 'max_iteration_without_improv': None,\n",
              " 'max_num_iteration': None,\n",
              " 'mutation_probability': 0.1,\n",
              " 'parents_portion': 0.3,\n",
              " 'population_size': 100}"
            ]
          },
          "metadata": {},
          "execution_count": 83
        }
      ]
    },
    {
      "cell_type": "markdown",
      "source": [
        "# Solução"
      ],
      "metadata": {
        "id": "vEjFAzpCDCep"
      }
    },
    {
      "cell_type": "markdown",
      "source": [
        "Chegamos que a dieta recomendada é a seguinte:"
      ],
      "metadata": {
        "id": "B4jOqKaiiql1"
      }
    },
    {
      "cell_type": "code",
      "source": [
        "resultado = [0.1926909,  0.01680871, 0.02535929, 0.0775994,  0.05020181, 0.07130818,\n",
        "             0.01180005, 0.0365422,  0.00404959, 0.0011334,  0.02774882, 0.00750964,\n",
        "             0.01744515, 0.00561045, 0.00553345, 0.00975975, 0.0818454,  0.02228306,\n",
        "             0.036049,   0.16574558, 0.00376287, 0.01462897, 0.08876319]\n",
        "\n",
        "alimentos = kcal.columns\n",
        "\n",
        "print(\"====================== Dieta ====================== \")\n",
        "\n",
        "for indice, item in enumerate(alimentos):\n",
        "  print (\"{} : {} Kcal\".format(item,round(resultado[indice],3)))"
      ],
      "metadata": {
        "id": "Z6OL35PyDH3i",
        "colab": {
          "base_uri": "https://localhost:8080/"
        },
        "outputId": "8528e227-c166-4789-b111-c9ab934e026f"
      },
      "execution_count": 84,
      "outputs": [
        {
          "output_type": "stream",
          "name": "stdout",
          "text": [
            "====================== Dieta ====================== \n",
            "Alcoholic Beverages : 0.193 Kcal\n",
            "Animal Products : 0.017 Kcal\n",
            "Animal fats : 0.025 Kcal\n",
            "Aquatic Products, Other : 0.078 Kcal\n",
            "Cereals - Excluding Beer : 0.05 Kcal\n",
            "Eggs : 0.071 Kcal\n",
            "Fish, Seafood : 0.012 Kcal\n",
            "Fruits - Excluding Wine : 0.037 Kcal\n",
            "Meat : 0.004 Kcal\n",
            "Milk - Excluding Butter : 0.001 Kcal\n",
            "Miscellaneous : 0.028 Kcal\n",
            "Offals : 0.008 Kcal\n",
            "Oilcrops : 0.017 Kcal\n",
            "Pulses : 0.006 Kcal\n",
            "Spices : 0.006 Kcal\n",
            "Starchy Roots : 0.01 Kcal\n",
            "Stimulants : 0.082 Kcal\n",
            "Sugar Crops : 0.022 Kcal\n",
            "Sugar & Sweeteners : 0.036 Kcal\n",
            "Treenuts : 0.166 Kcal\n",
            "Vegetal Products : 0.004 Kcal\n",
            "Vegetable Oils : 0.015 Kcal\n",
            "Vegetables : 0.089 Kcal\n"
          ]
        }
      ]
    },
    {
      "cell_type": "code",
      "source": [
        "model.output_dict"
      ],
      "metadata": {
        "id": "eBJ3s231DJaU",
        "colab": {
          "base_uri": "https://localhost:8080/"
        },
        "outputId": "faa5f65d-f5e0-408f-ac68-f6b402b5cdd0"
      },
      "execution_count": 85,
      "outputs": [
        {
          "output_type": "execute_result",
          "data": {
            "text/plain": [
              "{'function': 0.3072457752743869,\n",
              " 'variable': array([0.1926909 , 0.01680871, 0.02535929, 0.0775994 , 0.05020181,\n",
              "        0.07130818, 0.01180005, 0.0365422 , 0.00404959, 0.0011334 ,\n",
              "        0.02774882, 0.00750964, 0.01744515, 0.00561045, 0.00553345,\n",
              "        0.00975975, 0.0818454 , 0.02228306, 0.036049  , 0.16574558,\n",
              "        0.00376287, 0.01462897, 0.08876319])}"
            ]
          },
          "metadata": {},
          "execution_count": 85
        }
      ]
    }
  ]
}